{
 "cells": [
  {
   "cell_type": "markdown",
   "metadata": {},
   "source": [
    "# Tutorial: *Give your tutorial a meaningful title starting with an imperative, for example: \"Build Your First QA System\"*\n",
    "\n",
    "- **Level**: *Who is this tutorial for? Choose one of the options: Beginner, Intermediate, Advanced.*\n",
    "- **Time to complete**: *Enter the time it takes to complete this tutorial, in minutes.*\n",
    "- **Nodes Used**: *List the nodes used in this tutorial, for example: `FARMReader`.*\n",
    "- **Goal**: After completing this tutorial, you will have achieved/learned about.. *here state the goal of the tutorial. What will the users have done when they complete it?*"
   ]
  },
  {
   "cell_type": "markdown",
   "metadata": {},
   "source": [
    "## Overview\n",
    "\n",
    "*Here provide a short description of the tutorial. What does it teach? What's its expected outcome?*"
   ]
  },
  {
   "cell_type": "markdown",
   "metadata": {},
   "source": [
    "## Task 1\n",
    "\n",
    "*Divide your tutorial into tasks. Each task is a separate section. The title of the sections should start with a verb in the -ing form, for example: Installing Haystack, Preparing the Collab Environment, and so on.*\n",
    "*Divide your instructions into steps:*\n",
    "*1.*\n",
    "*2.*\n",
    "*3.*"
   ]
  },
  {
   "cell_type": "code",
   "execution_count": null,
   "metadata": {},
   "outputs": [],
   "source": [
    "# Add some code to run, if applicable."
   ]
  },
  {
   "cell_type": "markdown",
   "metadata": {},
   "source": [
    "## Task 2"
   ]
  },
  {
   "cell_type": "markdown",
   "metadata": {},
   "source": [
    "## Task 3"
   ]
  },
  {
   "cell_type": "markdown",
   "metadata": {},
   "source": [
    "## Next Steps\n",
    "\n",
    "*Are there any pages, tutorials, or guides that could be useful to read after completing this tutorial? Are there any other tasks the user should complete now? If yes, list them here. If no, delete this section.*"
   ]
  },
  {
   "cell_type": "markdown",
   "metadata": {},
   "source": [
    "## About us\n",
    "\n",
    "*Leave this section as is. It's a footer that we add to all our tutorials.*\n",
    "\n",
    "\n",
    "This [Haystack](https://github.com/deepset-ai/haystack/) notebook was made with love by [deepset](https://deepset.ai/) in Berlin, Germany\n",
    "\n",
    "We bring NLP to the industry via open source!  \n",
    "Our focus: Industry specific language models & large scale QA systems.  \n",
    "  \n",
    "Some of our other work: \n",
    "- [German BERT](https://deepset.ai/german-bert)\n",
    "- [GermanQuAD and GermanDPR](https://deepset.ai/germanquad)\n",
    "\n",
    "Get in touch:\n",
    "[Twitter](https://twitter.com/deepset_ai) | [LinkedIn](https://www.linkedin.com/company/deepset-ai/) | [Discord](https://haystack.deepset.ai/community/join) | [GitHub Discussions](https://github.com/deepset-ai/haystack/discussions) | [Website](https://deepset.ai)\n",
    "\n",
    "By the way: [we're hiring!](https://www.deepset.ai/jobs)\n"
   ]
  }
 ],
 "metadata": {
  "kernelspec": {
   "display_name": "Python 3.9.13 64-bit (microsoft store)",
   "language": "python",
   "name": "python3"
  },
  "language_info": {
   "name": "python",
   "version": "3.9.13"
  },
  "orig_nbformat": 4,
  "vscode": {
   "interpreter": {
    "hash": "9075e6086e4e65b56cd3eb170a15e0fca54180da9a114ef73f891ab1378b8e41"
   }
  }
 },
 "nbformat": 4,
 "nbformat_minor": 2
}
