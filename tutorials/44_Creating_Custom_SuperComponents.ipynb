{
 "cells": [
  {
   "cell_type": "markdown",
   "metadata": {
    "id": "2OvkPji9O-qX"
   },
   "source": [
    "# Tutorial: Creating Custom SuperComponents\n",
    "\n",
    "- **Level**: Intermediate\n",
    "- **Time to complete**: 20 minutes\n",
    "- **Concepts and Components Used**: [`@super_component`](https://docs.haystack.deepset.ai/docs/super_component), [`Pipeline`](https://docs.haystack.deepset.ai/docs/pipeline), [`DocumentJoiner`](https://docs.haystack.deepset.ai/docs/documentjoiner), [`SentenceTransformersTextEmbedder`](https://docs.haystack.deepset.ai/docs/sentencetransformerstextembedder), [`InMemoryBM25Retriever`](https://docs.haystack.deepset.ai/docs/inmemorybm25retriever), [`InMemoryEmbeddingRetriever`](https://docs.haystack.deepset.ai/docs/inmemoryembeddingretriever), [`TransformersSimilarityRanker`](https://docs.haystack.deepset.ai/docs/transformerssimilarityranker)\n",
    "- **Goal**: After completing this tutorial, you'll have learned how to create custom SuperComponents using the `@super_component` decorator to simplify complex pipelines and make them reusable as components."
   ]
  },
  {
   "cell_type": "markdown",
   "metadata": {
    "id": "LFqHcXYPO-qZ"
   },
   "source": [
    "## Overview\n",
    "\n",
    "In this tutorial, you'll learn how to create custom SuperComponents using the `@super_component` decorator. SuperComponents are a powerful way to encapsulate complex pipelines into reusable components with simplified interfaces.\n",
    "\n",
    "We'll explore several examples:\n",
    "\n",
    "1. Creating a simple HybridRetriever SuperComponent\n",
    "2. Extending our HybridRetriever with a ranker component \n",
    "3. Creating a SuperComponent with custom input and output mappings\n",
    "4. Creating a SuperComponent that exposes outputs from non-leaf components\n",
    "\n",
    "The `@super_component` decorator makes it easy to convert a class that defines a pipeline into a fully functional Haystack component that can be used in other pipelines or applications. All it requires is that the class has an attribute called `pipeline`."
   ]
  },
  {
   "cell_type": "markdown",
   "metadata": {
    "id": "QXjVlbPiO-qZ"
   },
   "source": [
    "## Preparing the Environment\n",
    "\n",
    "First, let's install Haystack and the dependencies we'll need:"
   ]
  },
  {
   "cell_type": "code",
   "execution_count": null,
   "metadata": {
    "id": "UQbU8GUfO-qZ"
   },
   "outputs": [],
   "source": [
    "%%bash\n",
    "\n",
    "pip install git+https://github.com/deepset-ai/haystack.git@main  # pip install haystack-ai after the 2.13 release\n",
    "pip install \"sentence-transformers>=3.0.0\"  datasets transformers[torch,sentencepiece]"
   ]
  },
  {
   "cell_type": "markdown",
   "metadata": {
    "id": "_lvfew16O-qa"
   },
   "source": [
    "## Understanding the @super_component Decorator\n",
    "\n",
    "The `@super_component` decorator is a powerful tool that allows you to create custom components by wrapping a Pipeline. It handles all the complexity of mapping inputs and outputs between the component interface and the underlying pipeline.\n",
    "\n",
    "When you use the `@super_component` decorator, you need to define a class with:\n",
    "\n",
    "1. An `__init__` method that creates a Pipeline and assigns it to `self.pipeline`\n",
    "2. Optionally, `input_mapping` and `output_mapping` attributes to customize how inputs and outputs are mapped\n",
    "\n",
    "The decorator then:\n",
    "\n",
    "1. Creates a new class that inherits from `SuperComponent`\n",
    "2. Copies all methods and attributes from your original class\n",
    "3. Adds initialization logic to properly set up the SuperComponent\n",
    "\n",
    "Let's see how this works with some practical examples."
   ]
  },
  {
   "cell_type": "markdown",
   "metadata": {
    "id": "yL8nuJdWO-qa"
   },
   "source": [
    "## 1. Creating a HybridRetriever SuperComponent\n",
    "\n",
    "Let's start with a simple example: creating a HybridRetriever that combines BM25 and embedding-based retrieval. This SuperComponent will take a query and return relevant documents."
   ]
  },
  {
   "cell_type": "code",
   "execution_count": null,
   "metadata": {
    "id": "XvLVaFHTO-qb"
   },
   "outputs": [
    {
     "name": "stderr",
     "output_type": "stream",
     "text": [
      "/Users/julian/deepset/dev/haystack-tutorials/.venv/lib/python3.12/site-packages/tqdm/auto.py:21: TqdmWarning: IProgress not found. Please update jupyter and ipywidgets. See https://ipywidgets.readthedocs.io/en/stable/user_install.html\n",
      "  from .autonotebook import tqdm as notebook_tqdm\n"
     ]
    }
   ],
   "source": [
    "from haystack import Document, Pipeline, super_component\n",
    "from haystack.components.joiners import DocumentJoiner\n",
    "from haystack.components.embedders import SentenceTransformersTextEmbedder\n",
    "from haystack.components.retrievers import InMemoryBM25Retriever, InMemoryEmbeddingRetriever\n",
    "from haystack.document_stores.in_memory import InMemoryDocumentStore\n",
    "\n",
    "from datasets import load_dataset\n",
    "\n",
    "\n",
    "@super_component\n",
    "class HybridRetriever:\n",
    "    def __init__(self, document_store: InMemoryDocumentStore, embedder_model: str = \"BAAI/bge-small-en-v1.5\"):\n",
    "        # Create the components\n",
    "        embedding_retriever = InMemoryEmbeddingRetriever(document_store)\n",
    "        bm25_retriever = InMemoryBM25Retriever(document_store)\n",
    "        text_embedder = SentenceTransformersTextEmbedder(embedder_model)\n",
    "        document_joiner = DocumentJoiner(join_mode=\"reciprocal_rank_fusion\")\n",
    "\n",
    "        # Create the pipeline\n",
    "        self.pipeline = Pipeline()\n",
    "        self.pipeline.add_component(\"text_embedder\", text_embedder)\n",
    "        self.pipeline.add_component(\"embedding_retriever\", embedding_retriever)\n",
    "        self.pipeline.add_component(\"bm25_retriever\", bm25_retriever)\n",
    "        self.pipeline.add_component(\"document_joiner\", document_joiner)\n",
    "\n",
    "        # Connect the components\n",
    "        self.pipeline.connect(\"text_embedder\", \"embedding_retriever\")\n",
    "        self.pipeline.connect(\"bm25_retriever\", \"document_joiner\")\n",
    "        self.pipeline.connect(\"embedding_retriever\", \"document_joiner\")"
   ]
  },
  {
   "cell_type": "markdown",
   "metadata": {
    "id": "RkaQjJJX0FAU"
   },
   "source": [
    "Now, let's load a dataset and test our HybridRetriever:"
   ]
  },
  {
   "cell_type": "code",
   "execution_count": null,
   "metadata": {
    "id": "aNzUi4iz0FAU"
   },
   "outputs": [
    {
     "name": "stderr",
     "output_type": "stream",
     "text": [
      "Batches: 100%|██████████| 1/1 [00:00<00:00,  6.96it/s]\n"
     ]
    },
    {
     "name": "stdout",
     "output_type": "stream",
     "text": [
      "Found 15 documents\n",
      "\n",
      "Document 1 (Score: 0.9841):\n",
      "[Proceedings: Long-term therapy with antibiotics in chronic bronchitis]. Longterm therapy of chronic bacterial bronchitis assumes two forms: (a) therapy of acute exacerbations, and (b) continuous long...\n",
      "\n",
      "Document 2 (Score: 0.9541):\n",
      "An investigation of renal function in chronic bronchitis. An investigation has been made into various parameters of renal function in patients with chronic bronchitis and in a group of hypoxic control...\n",
      "\n",
      "Document 3 (Score: 0.9186):\n",
      "Haematologic adaptation in patients with chronic bronchitis and pulmonary insufficiency. The relationship between respiratory insufficiency, expressed by gas tensions in blood and bone marrow, and hae...\n"
     ]
    }
   ],
   "source": [
    "# Load a dataset\n",
    "dataset = load_dataset(\"HaystackBot/medrag-pubmed-chunk-with-embeddings\", split=\"train\")\n",
    "docs = [Document(content=doc[\"contents\"], embedding=doc[\"embedding\"]) for doc in dataset]\n",
    "document_store = InMemoryDocumentStore()\n",
    "document_store.write_documents(docs)\n",
    "\n",
    "# Create and run the HybridRetriever\n",
    "query = \"What treatments are available for chronic bronchitis?\"\n",
    "retriever = HybridRetriever(document_store)\n",
    "result = retriever.run(text=query, query=query)\n",
    "\n",
    "# Print the results\n",
    "print(f\"Found {len(result['documents'])} documents\")\n",
    "for i, doc in enumerate(result['documents'][:3]):  # Show first 3 documents\n",
    "    print(f\"\\nDocument {i+1} (Score: {doc.score:.4f}):\")\n",
    "    print(doc.content[:200] + \"...\")"
   ]
  },
  {
   "cell_type": "markdown",
   "metadata": {
    "id": "ZnuXEecr0FAU"
   },
   "source": [
    "### How the HybridRetriever Works\n",
    "\n",
    "Let's break down what's happening in our HybridRetriever SuperComponent:\n",
    "\n",
    "1. We define a class decorated with `@super_component`\n",
    "2. In the `__init__` method, we:\n",
    "   - Create all the components we need (embedding retriever, BM25 retriever, etc.)\n",
    "   - Create a Pipeline and add all components to it\n",
    "   - Connect the components to define the flow of data\n",
    "   - Define input and output mappings to simplify the interface\n",
    "3. The `@super_component` decorator handles all the complexity of making our class work as a component\n",
    "\n",
    "The input mapping `{\"query\": [\"text_embedder.text\", \"bm25_retriever.query\"]}` means that when we call `run(query=\"...\")`, the query is automatically sent to both the text embedder and the BM25 retriever.\n",
    "\n",
    "The output mapping `{\"document_joiner.documents\": \"documents\"}` means that the documents from the document joiner are returned as the \"documents\" output of our component."
   ]
  },
  {
   "cell_type": "markdown",
   "metadata": {
    "id": "HryYZP9ZO-qb"
   },
   "source": [
    "## 2. A HybridRetriever with Re-Ranking and Custom `input_mapping`\n",
    "\n",
    "Now, let's enhance our HybridRetriever by adding a ranker component. This will re-rank the documents based on their semantic similarity to the query, potentially improving the quality of the results. We also define a custom input_mapping."
   ]
  },
  {
   "cell_type": "code",
   "execution_count": null,
   "metadata": {
    "id": "INdC3WvLO-qb"
   },
   "outputs": [],
   "source": [
    "from haystack import Document, Pipeline, super_component\n",
    "from haystack.components.joiners import DocumentJoiner\n",
    "from haystack.components.embedders import SentenceTransformersTextEmbedder\n",
    "from haystack.components.rankers import TransformersSimilarityRanker\n",
    "from haystack.components.retrievers import InMemoryBM25Retriever, InMemoryEmbeddingRetriever\n",
    "from haystack.document_stores.in_memory import InMemoryDocumentStore\n",
    "\n",
    "from datasets import load_dataset\n",
    "\n",
    "\n",
    "@super_component\n",
    "class HybridRetrieverWithRanker:\n",
    "    def __init__(\n",
    "        self, \n",
    "        document_store: InMemoryDocumentStore, \n",
    "        embedder_model: str = \"BAAI/bge-small-en-v1.5\",\n",
    "        ranker_model: str = \"BAAI/bge-reranker-base\"\n",
    "    ):\n",
    "        # Create the components\n",
    "        embedding_retriever = InMemoryEmbeddingRetriever(document_store)\n",
    "        bm25_retriever = InMemoryBM25Retriever(document_store)\n",
    "        text_embedder = SentenceTransformersTextEmbedder(embedder_model)\n",
    "        document_joiner = DocumentJoiner()\n",
    "        ranker = TransformersSimilarityRanker(ranker_model)\n",
    "\n",
    "        # Create the pipeline\n",
    "        self.pipeline = Pipeline()\n",
    "        self.pipeline.add_component(\"text_embedder\", text_embedder)\n",
    "        self.pipeline.add_component(\"embedding_retriever\", embedding_retriever)\n",
    "        self.pipeline.add_component(\"bm25_retriever\", bm25_retriever)\n",
    "        self.pipeline.add_component(\"document_joiner\", document_joiner)\n",
    "        self.pipeline.add_component(\"ranker\", ranker)\n",
    "\n",
    "        # Connect the components\n",
    "        self.pipeline.connect(\"text_embedder\", \"embedding_retriever\")\n",
    "        self.pipeline.connect(\"bm25_retriever\", \"document_joiner\")\n",
    "        self.pipeline.connect(\"embedding_retriever\", \"document_joiner\")\n",
    "        self.pipeline.connect(\"document_joiner\", \"ranker\")\n",
    "\n",
    "        # Define input mapping\n",
    "        self.input_mapping = {\n",
    "            \"query\": [\"text_embedder.text\", \"bm25_retriever.query\", \"ranker.query\"],\n",
    "        }"
   ]
  },
  {
   "cell_type": "code",
   "execution_count": null,
   "metadata": {
    "id": "yxaN3KBo65pv"
   },
   "outputs": [
    {
     "name": "stderr",
     "output_type": "stream",
     "text": [
      "Batches: 100%|██████████| 1/1 [00:00<00:00, 81.05it/s]\n"
     ]
    },
    {
     "name": "stdout",
     "output_type": "stream",
     "text": [
      "Found 10 documents\n",
      "\n",
      "Document 1 (Score: 0.9995):\n",
      "[Proceedings: Long-term therapy with antibiotics in chronic bronchitis]. Longterm therapy of chronic bacterial bronchitis assumes two forms: (a) therapy of acute exacerbations, and (b) continuous long...\n",
      "\n",
      "Document 2 (Score: 0.9568):\n",
      "Pharmacologic therapy of asthma. Asthma is treated by avoiding the precipitants of symptoms, by a trial of hyposensitization (immunotherapy) if the precipitant cannot be avoided, and principally by ph...\n",
      "\n",
      "Document 3 (Score: 0.9432):\n",
      "Choosing a drug regimen for obstructive pulmonary disease. 1. Agents to achieve bronchodilatation. Many patients with pulmonary disease may have significant airflow obstruction. Bronchodilatation is a...\n"
     ]
    }
   ],
   "source": [
    "# Create and run the HybridRetrieverWithRanker\n",
    "retriever = HybridRetrieverWithRanker(document_store)\n",
    "result = retriever.run(query=query)  # instead of retriever.run(text=query, query=query) thanks to input_mapping\n",
    "\n",
    "# Print the results\n",
    "print(f\"Found {len(result['documents'])} documents\")\n",
    "for i, doc in enumerate(result['documents'][:3]):  # Show first 3 documents\n",
    "    print(f\"\\nDocument {i+1} (Score: {doc.score:.4f}):\")\n",
    "    print(doc.content[:200] + \"...\")"
   ]
  },
  {
   "cell_type": "markdown",
   "metadata": {
    "id": "xtORWP3_0FAU"
   },
   "source": [
    "### Comparing the Two Retrievers\n",
    "\n",
    "The main differences between the two retrievers are:\n",
    "\n",
    "1. **Added Ranker Component**: The second version includes a `TransformersSimilarityRanker` that re-ranks the documents based on their semantic similarity to the query.\n",
    "2. **Updated Input Mapping**: We added `\"text_embedder.text\"`, `\"bm25_retriever.query\"` and `\"ranker.query\"` to the input mapping to ensure the input query is sent to all three components while simplifying the `retriever.run` method.\n",
    "\n",
    "The ranker can significantly improve the quality of the results by re-ranking the documents based on their semantic similarity to the query, even if they were not ranked highly by the initial retrievers."
   ]
  },
  {
   "cell_type": "markdown",
   "metadata": {},
   "source": [
    "## 3. Serialization and Deserialization of SuperComponents\n",
    "\n",
    "One of the key benefits of using the `@super_component` decorator is that it automatically adds serialization and deserialization capabilities to your component. This means you can easily save and load your SuperComponents using the standard Haystack serialization functions.\n",
    "\n",
    "Let's see how this works with our `DocumentPreprocessor` component:"
   ]
  },
  {
   "cell_type": "code",
   "execution_count": 11,
   "metadata": {},
   "outputs": [
    {
     "name": "stdout",
     "output_type": "stream",
     "text": [
      "Serialized component:\n",
      "{'type': 'haystack.components.preprocessors.document_preprocessor.DocumentPreprocessor', 'init_parameters': {'remove_empty_lines': True, 'remove_extra_whitespaces': True, 'remove_repeated_substrings': False, 'keep_id': False, 'remove_substrings': None, 'remove_regex': None, 'unicode_normalization': None, 'ascii_only': False, 'split_by': 'word', 'split_length': 250, 'split_overlap': 0, 'split_threshold': 0, 'splitting_function': None, 'respect_sentence_boundary': False, 'language': 'en', 'use_split_rules': True, 'extend_abbreviations': True}}\n"
     ]
    },
    {
     "ename": "AttributeError",
     "evalue": "'NoneType' object has no attribute 'split'",
     "output_type": "error",
     "traceback": [
      "\u001b[31m---------------------------------------------------------------------------\u001b[39m",
      "\u001b[31mAttributeError\u001b[39m                            Traceback (most recent call last)",
      "\u001b[36mCell\u001b[39m\u001b[36m \u001b[39m\u001b[32mIn[11]\u001b[39m\u001b[32m, line 13\u001b[39m\n\u001b[32m     10\u001b[39m \u001b[38;5;28mprint\u001b[39m(serialized)\n\u001b[32m     12\u001b[39m \u001b[38;5;66;03m# Deserialize the component from the dictionary\u001b[39;00m\n\u001b[32m---> \u001b[39m\u001b[32m13\u001b[39m deserialized = \u001b[43mcomponent_from_dict\u001b[49m\u001b[43m(\u001b[49m\u001b[43mDocumentPreprocessor\u001b[49m\u001b[43m,\u001b[49m\u001b[43m \u001b[49m\u001b[43mserialized\u001b[49m\u001b[43m,\u001b[49m\u001b[43m \u001b[49m\u001b[33;43m\"\u001b[39;49m\u001b[33;43mdocument_preprocessor\u001b[39;49m\u001b[33;43m\"\u001b[39;49m\u001b[43m)\u001b[49m\n\u001b[32m     14\u001b[39m \u001b[38;5;28mprint\u001b[39m(\u001b[33m\"\u001b[39m\u001b[38;5;130;01m\\n\u001b[39;00m\u001b[33mDeserialized component:\u001b[39m\u001b[33m\"\u001b[39m)\n\u001b[32m     15\u001b[39m \u001b[38;5;28mprint\u001b[39m(deserialized)\n",
      "\u001b[36mFile \u001b[39m\u001b[32m~/deepset/dev/haystack-tutorials/.venv/lib/python3.12/site-packages/haystack/core/serialization.py:166\u001b[39m, in \u001b[36mcomponent_from_dict\u001b[39m\u001b[34m(cls, data, name, callbacks)\u001b[39m\n\u001b[32m    163\u001b[39m     \u001b[38;5;28;01mreturn\u001b[39;00m default_from_dict(\u001b[38;5;28mcls\u001b[39m, data)\n\u001b[32m    165\u001b[39m \u001b[38;5;28;01mif\u001b[39;00m callbacks \u001b[38;5;129;01mis\u001b[39;00m \u001b[38;5;28;01mNone\u001b[39;00m \u001b[38;5;129;01mor\u001b[39;00m callbacks.component_pre_init \u001b[38;5;129;01mis\u001b[39;00m \u001b[38;5;28;01mNone\u001b[39;00m:\n\u001b[32m--> \u001b[39m\u001b[32m166\u001b[39m     \u001b[38;5;28;01mreturn\u001b[39;00m \u001b[43mdo_from_dict\u001b[49m\u001b[43m(\u001b[49m\u001b[43m)\u001b[49m\n\u001b[32m    168\u001b[39m \u001b[38;5;28;01mwith\u001b[39;00m _hook_component_init(component_pre_init_callback):\n\u001b[32m    169\u001b[39m     \u001b[38;5;28;01mreturn\u001b[39;00m do_from_dict()\n",
      "\u001b[36mFile \u001b[39m\u001b[32m~/deepset/dev/haystack-tutorials/.venv/lib/python3.12/site-packages/haystack/core/serialization.py:161\u001b[39m, in \u001b[36mcomponent_from_dict.<locals>.do_from_dict\u001b[39m\u001b[34m()\u001b[39m\n\u001b[32m    159\u001b[39m \u001b[38;5;28;01mdef\u001b[39;00m\u001b[38;5;250m \u001b[39m\u001b[34mdo_from_dict\u001b[39m():\n\u001b[32m    160\u001b[39m     \u001b[38;5;28;01mif\u001b[39;00m \u001b[38;5;28mhasattr\u001b[39m(\u001b[38;5;28mcls\u001b[39m, \u001b[33m\"\u001b[39m\u001b[33mfrom_dict\u001b[39m\u001b[33m\"\u001b[39m):\n\u001b[32m--> \u001b[39m\u001b[32m161\u001b[39m         \u001b[38;5;28;01mreturn\u001b[39;00m \u001b[38;5;28;43mcls\u001b[39;49m\u001b[43m.\u001b[49m\u001b[43mfrom_dict\u001b[49m\u001b[43m(\u001b[49m\u001b[43mdata\u001b[49m\u001b[43m)\u001b[49m\n\u001b[32m    163\u001b[39m     \u001b[38;5;28;01mreturn\u001b[39;00m default_from_dict(\u001b[38;5;28mcls\u001b[39m, data)\n",
      "\u001b[36mFile \u001b[39m\u001b[32m~/deepset/dev/haystack-tutorials/.venv/lib/python3.12/site-packages/haystack/components/preprocessors/document_preprocessor.py:190\u001b[39m, in \u001b[36mDocumentPreprocessor.from_dict\u001b[39m\u001b[34m(cls, data)\u001b[39m\n\u001b[32m    181\u001b[39m \u001b[38;5;250m\u001b[39m\u001b[33;03m\"\"\"\u001b[39;00m\n\u001b[32m    182\u001b[39m \u001b[33;03mDeserializes the SuperComponent from a dictionary.\u001b[39;00m\n\u001b[32m    183\u001b[39m \n\u001b[32m   (...)\u001b[39m\u001b[32m    187\u001b[39m \u001b[33;03m    Deserialized SuperComponent.\u001b[39;00m\n\u001b[32m    188\u001b[39m \u001b[33;03m\"\"\"\u001b[39;00m\n\u001b[32m    189\u001b[39m \u001b[38;5;28;01mif\u001b[39;00m \u001b[33m\"\u001b[39m\u001b[33msplitting_function\u001b[39m\u001b[33m\"\u001b[39m \u001b[38;5;129;01min\u001b[39;00m data[\u001b[33m\"\u001b[39m\u001b[33minit_parameters\u001b[39m\u001b[33m\"\u001b[39m]:\n\u001b[32m--> \u001b[39m\u001b[32m190\u001b[39m     data[\u001b[33m\"\u001b[39m\u001b[33minit_parameters\u001b[39m\u001b[33m\"\u001b[39m][\u001b[33m\"\u001b[39m\u001b[33msplitting_function\u001b[39m\u001b[33m\"\u001b[39m] = \u001b[43mdeserialize_callable\u001b[49m\u001b[43m(\u001b[49m\n\u001b[32m    191\u001b[39m \u001b[43m        \u001b[49m\u001b[43mdata\u001b[49m\u001b[43m[\u001b[49m\u001b[33;43m\"\u001b[39;49m\u001b[33;43minit_parameters\u001b[39;49m\u001b[33;43m\"\u001b[39;49m\u001b[43m]\u001b[49m\u001b[43m[\u001b[49m\u001b[33;43m\"\u001b[39;49m\u001b[33;43msplitting_function\u001b[39;49m\u001b[33;43m\"\u001b[39;49m\u001b[43m]\u001b[49m\n\u001b[32m    192\u001b[39m \u001b[43m    \u001b[49m\u001b[43m)\u001b[49m\n\u001b[32m    194\u001b[39m \u001b[38;5;28;01mreturn\u001b[39;00m default_from_dict(\u001b[38;5;28mcls\u001b[39m, data)\n",
      "\u001b[36mFile \u001b[39m\u001b[32m~/deepset/dev/haystack-tutorials/.venv/lib/python3.12/site-packages/haystack/utils/callable_serialization.py:53\u001b[39m, in \u001b[36mdeserialize_callable\u001b[39m\u001b[34m(callable_handle)\u001b[39m\n\u001b[32m     45\u001b[39m \u001b[38;5;28;01mdef\u001b[39;00m\u001b[38;5;250m \u001b[39m\u001b[34mdeserialize_callable\u001b[39m(callable_handle: \u001b[38;5;28mstr\u001b[39m) -> Callable:\n\u001b[32m     46\u001b[39m \u001b[38;5;250m    \u001b[39m\u001b[33;03m\"\"\"\u001b[39;00m\n\u001b[32m     47\u001b[39m \u001b[33;03m    Deserializes a callable given its full import path as a string.\u001b[39;00m\n\u001b[32m     48\u001b[39m \n\u001b[32m   (...)\u001b[39m\u001b[32m     51\u001b[39m \u001b[33;03m    :raises DeserializationError: If the callable cannot be found\u001b[39;00m\n\u001b[32m     52\u001b[39m \u001b[33;03m    \"\"\"\u001b[39;00m\n\u001b[32m---> \u001b[39m\u001b[32m53\u001b[39m     parts = \u001b[43mcallable_handle\u001b[49m\u001b[43m.\u001b[49m\u001b[43msplit\u001b[49m(\u001b[33m\"\u001b[39m\u001b[33m.\u001b[39m\u001b[33m\"\u001b[39m)\n\u001b[32m     55\u001b[39m     \u001b[38;5;28;01mfor\u001b[39;00m i \u001b[38;5;129;01min\u001b[39;00m \u001b[38;5;28mrange\u001b[39m(\u001b[38;5;28mlen\u001b[39m(parts), \u001b[32m0\u001b[39m, -\u001b[32m1\u001b[39m):\n\u001b[32m     56\u001b[39m         module_name = \u001b[33m\"\u001b[39m\u001b[33m.\u001b[39m\u001b[33m\"\u001b[39m.join(parts[:i])\n",
      "\u001b[31mAttributeError\u001b[39m: 'NoneType' object has no attribute 'split'"
     ]
    }
   ],
   "source": [
    "from haystack.core.serialization import component_to_dict, component_from_dict\n",
    "from haystack.components.preprocessors import DocumentPreprocessor\n",
    "\n",
    "# Create an instance of our SuperComponent\n",
    "preprocessor = DocumentPreprocessor()\n",
    "\n",
    "# Serialize the component to a dictionary\n",
    "serialized = component_to_dict(preprocessor, \"document_preprocessor\")\n",
    "print(\"Serialized component:\")\n",
    "print(serialized)\n",
    "\n",
    "# Deserialize the component from the dictionary\n",
    "deserialized = component_from_dict(DocumentPreprocessor, serialized, \"document_preprocessor\")\n",
    "print(\"\\nDeserialized component:\")\n",
    "print(deserialized)\n",
    "\n",
    "# Verify that the deserialized component works\n",
    "doc = Document(content=\"I love pizza!\")\n",
    "result = deserialized.run(documents=[doc])\n",
    "print(f\"\\nDeserialized component produced {len(result['documents'])} documents\")"
   ]
  },
  {
   "cell_type": "markdown",
   "metadata": {},
   "source": [
    "The serialization and deserialization process works seamlessly with SuperComponents because the `@super_component` decorator automatically adds the necessary functionality. This is particularly useful when you want to:\n",
    "\n",
    "1. **Save and load pipelines**: You can save your entire pipeline, including SuperComponents, to a file and load it later.\n",
    "2. **Deploy components**: You can deploy your SuperComponents to a server or cloud environment.\n",
    "3. **Share components**: You can share your SuperComponents with others, who can then load and use them in their own pipelines.\n",
    "\n",
    "The serialization process captures all the initialization parameters of your SuperComponent, ensuring that when it's deserialized, it's recreated with the same configuration."
   ]
  },
  {
   "cell_type": "markdown",
   "metadata": {
    "id": "9y4iJE_SrS4K"
   },
   "source": [
    "## 4. Creating a SuperComponent with Outputs from Non-Leaf Components\n",
    "\n",
    "One of the powerful features of SuperComponents is the ability to expose outputs from any component in the pipeline, not just the leaf components. With leaf components, we here refer to components that do not send any outputs to other components in a pipeline. Let's create a SuperComponent that demonstrates this capability."
   ]
  },
  {
   "cell_type": "code",
   "execution_count": null,
   "metadata": {
    "id": "HryYZP9ZO-qc"
   },
   "outputs": [
    {
     "ename": "",
     "evalue": "",
     "output_type": "error",
     "traceback": [
      "\u001b[1;31mnotebook controller is DISPOSED. \n",
      "\u001b[1;31mView Jupyter <a href='command:jupyter.viewOutput'>log</a> for further details."
     ]
    }
   ],
   "source": [
    "from haystack import Document, Pipeline, super_component\n",
    "from haystack.components.joiners import DocumentJoiner\n",
    "from haystack.components.embedders import SentenceTransformersTextEmbedder\n",
    "from haystack.components.retrievers import InMemoryBM25Retriever, InMemoryEmbeddingRetriever\n",
    "from haystack.components.rankers import TransformersSimilarityRanker\n",
    "from haystack.document_stores.in_memory import InMemoryDocumentStore\n",
    "\n",
    "\n",
    "@super_component\n",
    "class AdvancedHybridRetriever:\n",
    "    def __init__(\n",
    "        self, \n",
    "        document_store: InMemoryDocumentStore, \n",
    "        embedder_model: str = \"BAAI/bge-small-en-v1.5\",\n",
    "        ranker_model: str = \"BAAI/bge-reranker-base\"\n",
    "    ):\n",
    "        # Create the components\n",
    "        embedding_retriever = InMemoryEmbeddingRetriever(document_store)\n",
    "        bm25_retriever = InMemoryBM25Retriever(document_store)\n",
    "        text_embedder = SentenceTransformersTextEmbedder(embedder_model)\n",
    "        document_joiner = DocumentJoiner()\n",
    "        ranker = TransformersSimilarityRanker(ranker_model)\n",
    "\n",
    "        # Create the pipeline\n",
    "        self.pipeline = Pipeline()\n",
    "        self.pipeline.add_component(\"text_embedder\", text_embedder)\n",
    "        self.pipeline.add_component(\"embedding_retriever\", embedding_retriever)\n",
    "        self.pipeline.add_component(\"bm25_retriever\", bm25_retriever)\n",
    "        self.pipeline.add_component(\"document_joiner\", document_joiner)\n",
    "        self.pipeline.add_component(\"ranker\", ranker)\n",
    "\n",
    "        # Connect the components\n",
    "        self.pipeline.connect(\"text_embedder\", \"embedding_retriever\")\n",
    "        self.pipeline.connect(\"bm25_retriever\", \"document_joiner\")\n",
    "        self.pipeline.connect(\"embedding_retriever\", \"document_joiner\")\n",
    "        self.pipeline.connect(\"document_joiner\", \"ranker\")\n",
    "\n",
    "        # Define input and output mappings\n",
    "        self.input_mapping = {\n",
    "            \"query\": [\"text_embedder.text\", \"bm25_retriever.query\", \"ranker.query\"],\n",
    "        }\n",
    "        \n",
    "        # Expose outputs from multiple components, including non-leaf components\n",
    "        self.output_mapping = {\n",
    "            \"bm25_retriever.documents\": \"bm25_documents\",\n",
    "            \"embedding_retriever.documents\": \"embedding_documents\",\n",
    "            \"document_joiner.documents\": \"joined_documents\",\n",
    "            \"ranker.documents\": \"ranked_documents\",\n",
    "            \"text_embedder.embedding\": \"query_embedding\"\n",
    "        }"
   ]
  },
  {
   "cell_type": "code",
   "execution_count": null,
   "metadata": {
    "id": "INdC3WvLO-qc"
   },
   "outputs": [
    {
     "ename": "",
     "evalue": "",
     "output_type": "error",
     "traceback": [
      "\u001b[1;31mnotebook controller is DISPOSED. \n",
      "\u001b[1;31mView Jupyter <a href='command:jupyter.viewOutput'>log</a> for further details."
     ]
    }
   ],
   "source": [
    "# Create and run the AdvancedHybridRetriever\n",
    "retriever = AdvancedHybridRetriever(document_store)\n",
    "result = retriever.run(query=query)\n",
    "\n",
    "# Print the results\n",
    "print(f\"BM25 documents: {len(result['bm25_documents'])}\")\n",
    "print(f\"Embedding documents: {len(result['embedding_documents'])}\")\n",
    "print(f\"Joined documents: {len(result['joined_documents'])}\")\n",
    "print(f\"Ranked documents: {len(result['ranked_documents'])}\")\n",
    "print(f\"Query embedding shape: {len(result['query_embedding'])}\")\n",
    "\n",
    "# Compare the top document from each stage\n",
    "print(\"\\nTop BM25 document:\")\n",
    "print(result['bm25_documents'][0].content[:200] + \"...\")\n",
    "print(f\"Score: {result['bm25_documents'][0].score:.4f}\")\n",
    "\n",
    "print(\"\\nTop embedding document:\")\n",
    "print(result['embedding_documents'][0].content[:200] + \"...\")\n",
    "print(f\"Score: {result['embedding_documents'][0].score:.4f}\")\n",
    "\n",
    "print(\"\\nTop ranked document:\")\n",
    "print(result['ranked_documents'][0].content[:200] + \"...\")\n",
    "print(f\"Score: {result['ranked_documents'][0].score:.4f}\")"
   ]
  },
  {
   "cell_type": "markdown",
   "metadata": {
    "id": "wLIcnWl-66QA"
   },
   "source": [
    "### Understanding Outputs from Non-Leaf Components\n",
    "\n",
    "In this example, we've created a SuperComponent that exposes outputs from multiple components in the pipeline, including non-leaf components:\n",
    "\n",
    "1. **BM25 Documents**: Documents retrieved by the BM25 retriever\n",
    "2. **Embedding Documents**: Documents retrieved by the embedding retriever\n",
    "3. **Joined Documents**: Documents after joining the results from both retrievers\n",
    "4. **Ranked Documents**: Documents after re-ranking\n",
    "5. **Query Embedding**: The embedding of the query\n",
    "\n",
    "This demonstrates how the `@super_component` decorator allows you to expose outputs from any component in the pipeline, not just the leaf components. This is particularly useful for debugging, analysis, or when you want to provide more detailed information to the user."
   ]
  },
  {
   "cell_type": "markdown",
   "metadata": {
    "id": "xtORWP3_0FAU"
   },
   "source": [
    "## Ready-Made SuperComponents in Haystack\n",
    "\n",
    "Haystack provides several ready-made SuperComponents that you can use in your applications, for example\n",
    "\n",
    "1. **[MultiFileConverter](https://docs.haystack.deepset.ai/docs/multifileconverter)**: A SuperComponent that can convert various file types to documents.\n",
    "2. **[DocumentPreprocessor](https://docs.haystack.deepset.ai/docs/documentpreprocessor)**: A SuperComponent that combines document cleaning and splitting.\n",
    "\n",
    "These SuperComponents provide a convenient way to use common pipelines without having to build them from scratch."
   ]
  },
  {
   "cell_type": "markdown",
   "metadata": {
    "id": "czMjWwnxPA-3"
   },
   "source": [
    "## Conclusion\n",
    "\n",
    "In this tutorial, you've learned how to create custom SuperComponents using the `@super_component` decorator. You've seen how to:\n",
    "\n",
    "1. Create a simple HybridRetriever SuperComponent\n",
    "2. Enhance it with a ranker and custom input mapping\n",
    "3. Serialize and deserialize the component with out-of-the-box functionalities\n",
    "4. Create a SuperComponent that exposes outputs from non-leaf components\n",
    "\n",
    "SuperComponents are a powerful way to encapsulate complex pipelines into reusable components with simplified interfaces. They make it easy to create higher-level components that abstract away the details of the underlying pipeline."
   ]
  }
 ],
 "metadata": {
  "accelerator": "GPU",
  "colab": {
   "gpuType": "T4",
   "provenance": []
  },
  "kernelspec": {
   "display_name": ".venv",
   "language": "python",
   "name": "python3"
  },
  "language_info": {
   "codemirror_mode": {
    "name": "ipython",
    "version": 3
   },
   "file_extension": ".py",
   "mimetype": "text/x-python",
   "name": "python",
   "nbconvert_exporter": "python",
   "pygments_lexer": "ipython3",
   "version": "3.12.8"
  }
 },
 "nbformat": 4,
 "nbformat_minor": 0
}
