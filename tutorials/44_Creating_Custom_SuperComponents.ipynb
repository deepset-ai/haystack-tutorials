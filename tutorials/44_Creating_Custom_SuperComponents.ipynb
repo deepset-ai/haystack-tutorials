{
 "cells": [
  {
   "cell_type": "markdown",
   "metadata": {
    "id": "2OvkPji9O-qX"
   },
   "source": [
    "# Tutorial: Creating Custom SuperComponents\n",
    "\n",
    "- **Level**: Intermediate\n",
    "- **Time to complete**: 20 minutes\n",
    "- **Concepts and Components Used**: [`@super_component`](https://docs.haystack.deepset.ai/docs/super_component), [`Pipeline`](https://docs.haystack.deepset.ai/docs/pipeline), [`DocumentJoiner`](https://docs.haystack.deepset.ai/docs/documentjoiner), [`SentenceTransformersTextEmbedder`](https://docs.haystack.deepset.ai/docs/sentencetransformerstextembedder), [`InMemoryBM25Retriever`](https://docs.haystack.deepset.ai/docs/inmemorybm25retriever), [`InMemoryEmbeddingRetriever`](https://docs.haystack.deepset.ai/docs/inmemoryembeddingretriever), [`TransformersSimilarityRanker`](https://docs.haystack.deepset.ai/docs/transformerssimilarityranker)\n",
    "- **Goal**: After completing this tutorial, you'll have learned how to create custom SuperComponents using the `@super_component` decorator to simplify complex pipelines and make them reusable as components."
   ]
  },
  {
   "cell_type": "markdown",
   "metadata": {
    "id": "LFqHcXYPO-qZ"
   },
   "source": [
    "## Overview\n",
    "\n",
    "In this tutorial, you'll learn how to create custom SuperComponents using the `@super_component` decorator. SuperComponents are a powerful way to encapsulate complex pipelines into reusable components with simplified interfaces.\n",
    "\n",
    "We'll explore several examples:\n",
    "\n",
    "1. Creating a simple HybridRetriever SuperComponent\n",
    "2. Extending our HybridRetriever with a ranker component \n",
    "3. Creating a SuperComponent with custom input and output mappings\n",
    "4. Creating a SuperComponent that exposes outputs from non-leaf components\n",
    "\n",
    "The `@super_component` decorator makes it easy to convert a class that defines a pipeline into a fully functional Haystack component that can be used in other pipelines or applications. All it requires is that the class has an attribute called `pipeline`."
   ]
  },
  {
   "cell_type": "markdown",
   "metadata": {
    "id": "QXjVlbPiO-qZ"
   },
   "source": [
    "## Preparing the Environment\n",
    "\n",
    "First, let's install Haystack and the dependencies we'll need:"
   ]
  },
  {
   "cell_type": "code",
   "execution_count": null,
   "metadata": {
    "id": "UQbU8GUfO-qZ"
   },
   "outputs": [],
   "source": [
    "%%bash\n",
    "\n",
    "pip install haystack-ai datasets \"sentence-transformers>=3.0.0\""
   ]
  },
  {
   "cell_type": "markdown",
   "metadata": {
    "id": "_lvfew16O-qa"
   },
   "source": [
    "## Understanding the @super_component Decorator\n",
    "\n",
    "The `@super_component` decorator is a powerful tool that allows you to create custom components by wrapping a Pipeline. It handles all the complexity of mapping inputs and outputs between the component interface and the underlying pipeline.\n",
    "\n",
    "When you use the `@super_component` decorator, you need to define a class with:\n",
    "\n",
    "1. An `__init__` method that creates a Pipeline and assigns it to `self.pipeline`\n",
    "2. Optionally, `input_mapping` and `output_mapping` attributes to customize how inputs and outputs are mapped\n",
    "\n",
    "The decorator then:\n",
    "\n",
    "1. Creates a new class that inherits from `SuperComponent`\n",
    "2. Copies all methods and attributes from your original class\n",
    "3. Adds initialization logic to properly set up the SuperComponent\n",
    "\n",
    "Let's see how this works with some practical examples."
   ]
  },
  {
   "cell_type": "markdown",
   "metadata": {
    "id": "yL8nuJdWO-qa"
   },
   "source": [
    "## Example 1: Creating a HybridRetriever SuperComponent\n",
    "\n",
    "Let's start with a simple example: creating a HybridRetriever that combines BM25 and embedding-based retrieval. This SuperComponent will take a query and return relevant documents."
   ]
  },
  {
   "cell_type": "code",
   "execution_count": null,
   "metadata": {
    "id": "XvLVaFHTO-qb"
   },
   "outputs": [],
   "source": [
    "from haystack import Document, Pipeline, super_component\n",
    "from haystack.components.joiners import DocumentJoiner\n",
    "from haystack.components.embedders import SentenceTransformersTextEmbedder\n",
    "from haystack.components.retrievers import InMemoryBM25Retriever, InMemoryEmbeddingRetriever\n",
    "from haystack.document_stores.in_memory import InMemoryDocumentStore\n",
    "\n",
    "from datasets import load_dataset\n",
    "\n",
    "\n",
    "@super_component\n",
    "class HybridRetriever:\n",
    "    def __init__(self, document_store: InMemoryDocumentStore, embedder_model: str = \"BAAI/bge-small-en-v1.5\"):\n",
    "        # Create the components\n",
    "        embedding_retriever = InMemoryEmbeddingRetriever(document_store)\n",
    "        bm25_retriever = InMemoryBM25Retriever(document_store)\n",
    "        text_embedder = SentenceTransformersTextEmbedder(embedder_model)\n",
    "        document_joiner = DocumentJoiner(join_mode=\"reciprocal_rank_fusion\")\n",
    "\n",
    "        # Create the pipeline\n",
    "        self.pipeline = Pipeline()\n",
    "        self.pipeline.add_component(\"text_embedder\", text_embedder)\n",
    "        self.pipeline.add_component(\"embedding_retriever\", embedding_retriever)\n",
    "        self.pipeline.add_component(\"bm25_retriever\", bm25_retriever)\n",
    "        self.pipeline.add_component(\"document_joiner\", document_joiner)\n",
    "\n",
    "        # Connect the components\n",
    "        self.pipeline.connect(\"text_embedder\", \"embedding_retriever\")\n",
    "        self.pipeline.connect(\"bm25_retriever\", \"document_joiner\")\n",
    "        self.pipeline.connect(\"embedding_retriever\", \"document_joiner\")\n",
    "\n",
    "        # Define input and output mappings\n",
    "        self.input_mapping = {\n",
    "            \"query\": [\"text_embedder.text\", \"bm25_retriever.query\"],\n",
    "        }\n",
    "        self.output_mapping = {\n",
    "            \"document_joiner.documents\": \"documents\"\n",
    "        }"
   ]
  },
  {
   "cell_type": "markdown",
   "metadata": {
    "id": "RkaQjJJX0FAU"
   },
   "source": [
    "Now, let's load a dataset and test our HybridRetriever:"
   ]
  },
  {
   "cell_type": "code",
   "execution_count": null,
   "metadata": {
    "id": "aNzUi4iz0FAU"
   },
   "outputs": [],
   "source": [
    "# Load a dataset\n",
    "dataset = load_dataset(\"HaystackBot/medrag-pubmed-chunk-with-embeddings\", split=\"train\")\n",
    "docs = [Document(content=doc[\"contents\"], embedding=doc[\"embedding\"]) for doc in dataset]\n",
    "document_store = InMemoryDocumentStore()\n",
    "document_store.write_documents(docs)\n",
    "\n",
    "# Create and run the HybridRetriever\n",
    "query = \"What treatments are available for chronic bronchitis?\"\n",
    "retriever = HybridRetriever(document_store)\n",
    "result = retriever.run(query=query)\n",
    "\n",
    "# Print the results\n",
    "print(f\"Found {len(result['documents'])} documents\")\n",
    "for i, doc in enumerate(result['documents'][:3]):  # Show first 3 documents\n",
    "    print(f\"\\nDocument {i+1} (Score: {doc.score:.4f}):\")\n",
    "    print(doc.content[:200] + \"...\")"
   ]
  },
  {
   "cell_type": "markdown",
   "metadata": {
    "id": "ZnuXEecr0FAU"
   },
   "source": [
    "### How the HybridRetriever Works\n",
    "\n",
    "Let's break down what's happening in our HybridRetriever SuperComponent:\n",
    "\n",
    "1. We define a class decorated with `@super_component`\n",
    "2. In the `__init__` method, we:\n",
    "   - Create all the components we need (embedding retriever, BM25 retriever, etc.)\n",
    "   - Create a Pipeline and add all components to it\n",
    "   - Connect the components to define the flow of data\n",
    "   - Define input and output mappings to simplify the interface\n",
    "3. The `@super_component` decorator handles all the complexity of making our class work as a component\n",
    "\n",
    "The input mapping `{\"query\": [\"text_embedder.text\", \"bm25_retriever.query\"]}` means that when we call `run(query=\"...\")`, the query is automatically sent to both the text embedder and the BM25 retriever.\n",
    "\n",
    "The output mapping `{\"document_joiner.documents\": \"documents\"}` means that the documents from the document joiner are returned as the \"documents\" output of our component."
   ]
  },
  {
   "cell_type": "markdown",
   "metadata": {
    "id": "HryYZP9ZO-qb"
   },
   "source": [
    "## Example 2: Enhancing the HybridRetriever with a Ranker\n",
    "\n",
    "Now, let's enhance our HybridRetriever by adding a ranker component. This will re-rank the documents based on their semantic similarity to the query, potentially improving the quality of the results."
   ]
  },
  {
   "cell_type": "code",
   "execution_count": null,
   "metadata": {
    "id": "INdC3WvLO-qb"
   },
   "outputs": [],
   "source": [
    "from haystack import Document, Pipeline, super_component\n",
    "from haystack.components.joiners import DocumentJoiner\n",
    "from haystack.components.embedders import SentenceTransformersTextEmbedder\n",
    "from haystack.components.rankers import TransformersSimilarityRanker\n",
    "from haystack.components.retrievers import InMemoryBM25Retriever, InMemoryEmbeddingRetriever\n",
    "from haystack.document_stores.in_memory import InMemoryDocumentStore\n",
    "\n",
    "from datasets import load_dataset\n",
    "\n",
    "\n",
    "@super_component\n",
    "class HybridRetrieverWithRanker:\n",
    "    def __init__(\n",
    "        self, \n",
    "        document_store: InMemoryDocumentStore, \n",
    "        embedder_model: str = \"BAAI/bge-small-en-v1.5\",\n",
    "        ranker_model: str = \"BAAI/bge-reranker-base\"\n",
    "    ):\n",
    "        # Create the components\n",
    "        embedding_retriever = InMemoryEmbeddingRetriever(document_store)\n",
    "        bm25_retriever = InMemoryBM25Retriever(document_store)\n",
    "        text_embedder = SentenceTransformersTextEmbedder(embedder_model)\n",
    "        document_joiner = DocumentJoiner()\n",
    "        ranker = TransformersSimilarityRanker(ranker_model)\n",
    "\n",
    "        # Create the pipeline\n",
    "        self.pipeline = Pipeline()\n",
    "        self.pipeline.add_component(\"text_embedder\", text_embedder)\n",
    "        self.pipeline.add_component(\"embedding_retriever\", embedding_retriever)\n",
    "        self.pipeline.add_component(\"bm25_retriever\", bm25_retriever)\n",
    "        self.pipeline.add_component(\"document_joiner\", document_joiner)\n",
    "        self.pipeline.add_component(\"ranker\", ranker)\n",
    "\n",
    "        # Connect the components\n",
    "        self.pipeline.connect(\"text_embedder\", \"embedding_retriever\")\n",
    "        self.pipeline.connect(\"bm25_retriever\", \"document_joiner\")\n",
    "        self.pipeline.connect(\"embedding_retriever\", \"document_joiner\")\n",
    "        self.pipeline.connect(\"document_joiner\", \"ranker\")\n",
    "\n",
    "        # Define input and output mappings\n",
    "        self.input_mapping = {\n",
    "            \"query\": [\"text_embedder.text\", \"bm25_retriever.query\", \"ranker.query\"],\n",
    "        }\n",
    "        self.output_mapping = {\n",
    "            \"ranker.documents\": \"documents\"\n",
    "        }"
   ]
  },
  {
   "cell_type": "code",
   "execution_count": null,
   "metadata": {
    "id": "yxaN3KBo65pv"
   },
   "outputs": [],
   "source": [
    "# Create and run the HybridRetrieverWithRanker\n",
    "retriever = HybridRetrieverWithRanker(document_store)\n",
    "result = retriever.run(query=query)\n",
    "\n",
    "# Print the results\n",
    "print(f\"Found {len(result['documents'])} documents\")\n",
    "for i, doc in enumerate(result['documents'][:3]):  # Show first 3 documents\n",
    "    print(f\"\\nDocument {i+1} (Score: {doc.score:.4f}):\")\n",
    "    print(doc.content[:200] + \"...\")"
   ]
  },
  {
   "cell_type": "markdown",
   "metadata": {
    "id": "xtORWP3_0FAU"
   },
   "source": [
    "### Comparing the Two Retrievers\n",
    "\n",
    "The main differences between the two retrievers are:\n",
    "\n",
    "1. **Added Ranker Component**: The second version includes a `TransformersSimilarityRanker` that re-ranks the documents based on their semantic similarity to the query.\n",
    "2. **Updated Input Mapping**: We added `\"ranker.query\"` to the input mapping to ensure the query is also sent to the ranker.\n",
    "3. **Updated Output Mapping**: We changed the output mapping to return the documents from the ranker instead of the document joiner.\n",
    "\n",
    "The ranker can significantly improve the quality of the results by re-ranking the documents based on their semantic similarity to the query, even if they were not ranked highly by the initial retrievers."
   ]
  },
  {
   "cell_type": "markdown",
   "metadata": {},
   "source": [
    "## Serialization and Deserialization of SuperComponents\n",
    "\n",
    "One of the key benefits of using the `@super_component` decorator is that it automatically adds serialization and deserialization capabilities to your component. This means you can easily save and load your SuperComponents using the standard Haystack serialization functions.\n",
    "\n",
    "Let's see how this works with our `DocumentPreprocessor` component:"
   ]
  },
  {
   "cell_type": "code",
   "execution_count": null,
   "metadata": {},
   "outputs": [],
   "source": [
    "from haystack import component_to_dict, component_from_dict\n",
    "\n",
    "# Create an instance of our SuperComponent\n",
    "preprocessor = DocumentPreprocessor(document_store)\n",
    "\n",
    "# Serialize the component to a dictionary\n",
    "serialized = component_to_dict(preprocessor, \"document_preprocessor\")\n",
    "print(\"Serialized component:\")\n",
    "print(serialized)\n",
    "\n",
    "# Deserialize the component from the dictionary\n",
    "deserialized = component_from_dict(DocumentPreprocessor, serialized, \"document_preprocessor\")\n",
    "print(\"\\nDeserialized component:\")\n",
    "print(deserialized)\n",
    "\n",
    "# Verify that the deserialized component works\n",
    "result = deserialized.run(documents=sample_docs, query=\"sample document\")\n",
    "print(f\"\\nDeserialized component produced {len(result['embedded_documents'])} embedded documents\")"
   ]
  },
  {
   "cell_type": "markdown",
   "metadata": {},
   "source": [
    "The serialization and deserialization process works seamlessly with SuperComponents because the `@super_component` decorator automatically adds the necessary functionality. This is particularly useful when you want to:\n",
    "\n",
    "1. **Save and load pipelines**: You can save your entire pipeline, including SuperComponents, to a file and load it later.\n",
    "2. **Deploy components**: You can deploy your SuperComponents to a server or cloud environment.\n",
    "3. **Share components**: You can share your SuperComponents with others, who can then load and use them in their own pipelines.\n",
    "\n",
    "The serialization process captures all the initialization parameters of your SuperComponent, ensuring that when it's deserialized, it's recreated with the same configuration."
   ]
  },
  {
   "cell_type": "markdown",
   "metadata": {
    "id": "0_tne2jaFylV"
   },
   "source": [
    "## Example 3: Creating a SuperComponent with Custom Input and Output Mappings\n",
    "\n",
    "Now, let's create a more complex SuperComponent that demonstrates the power of custom input and output mappings. We'll create a document preprocessing pipeline that can clean, split, and embed documents."
   ]
  },
  {
   "cell_type": "code",
   "execution_count": null,
   "metadata": {
    "id": "vfMNiQwjFjOt"
   },
   "outputs": [],
   "source": [
    "from haystack import Document, Pipeline, super_component\n",
    "from haystack.components.preprocessors import DocumentCleaner, DocumentSplitter\n",
    "from haystack.components.embedders import SentenceTransformersTextEmbedder\n",
    "from haystack.document_stores.in_memory import InMemoryDocumentStore\n",
    "\n",
    "\n",
    "@super_component\n",
    "class DocumentPreprocessor:\n",
    "    def __init__(\n",
    "        self,\n",
    "        document_store: InMemoryDocumentStore,\n",
    "        embedder_model: str = \"BAAI/bge-small-en-v1.5\",\n",
    "        split_by: str = \"word\",\n",
    "        split_length: int = 200,\n",
    "        split_overlap: int = 20,\n",
    "    ):\n",
    "        # Create the components\n",
    "        cleaner = DocumentCleaner(\n",
    "            remove_empty_lines=True,\n",
    "            remove_extra_whitespaces=True,\n",
    "            remove_repeated_substrings=True,\n",
    "        )\n",
    "        splitter = DocumentSplitter(\n",
    "            split_by=split_by,\n",
    "            split_length=split_length,\n",
    "            split_overlap=split_overlap,\n",
    "        )\n",
    "        embedder = SentenceTransformersTextEmbedder(embedder_model)\n",
    "\n",
    "        # Create the pipeline\n",
    "        self.pipeline = Pipeline()\n",
    "        self.pipeline.add_component(\"cleaner\", cleaner)\n",
    "        self.pipeline.add_component(\"splitter\", splitter)\n",
    "        self.pipeline.add_component(\"embedder\", embedder)\n",
    "\n",
    "        # Connect the components\n",
    "        self.pipeline.connect(\"cleaner.documents\", \"splitter.documents\")\n",
    "        self.pipeline.connect(\"splitter.documents\", \"embedder.documents\")\n",
    "\n",
    "        # Define custom input and output mappings\n",
    "        self.input_mapping = {\n",
    "            \"documents\": [\"cleaner.documents\"],\n",
    "            \"query\": [\"embedder.text\"],  # For embedding queries\n",
    "        }\n",
    "        self.output_mapping = {\n",
    "            \"cleaner.documents\": \"cleaned_documents\",\n",
    "            \"splitter.documents\": \"split_documents\",\n",
    "            \"embedder.documents\": \"embedded_documents\",\n",
    "            \"embedder.embedding\": \"query_embedding\",\n",
    "        }"
   ]
  },
  {
   "cell_type": "code",
   "execution_count": null,
   "metadata": {
    "id": "51Tu2p2C_ZxL"
   },
   "outputs": [],
   "source": [
    "# Create some sample documents\n",
    "sample_docs = [\n",
    "    Document(content=\"This is a sample document with some extra whitespace.  \\n\\n\\nIt has multiple lines.\"),\n",
    "    Document(content=\"This is another document. It will be processed by our pipeline.\")\n",
    "]\n",
    "\n",
    "# Create and run the DocumentPreprocessor\n",
    "preprocessor = DocumentPreprocessor(document_store)\n",
    "result = preprocessor.run(documents=sample_docs, query=\"sample document\")\n",
    "\n",
    "# Print the results\n",
    "print(f\"Cleaned documents: {len(result['cleaned_documents'])}\")\n",
    "print(f\"Split documents: {len(result['split_documents'])}\")\n",
    "print(f\"Embedded documents: {len(result['embedded_documents'])}\")\n",
    "print(f\"Query embedding shape: {len(result['query_embedding'])}\")\n",
    "\n",
    "# Show a sample of the processed documents\n",
    "print(\"\\nSample of cleaned document:\")\n",
    "print(result['cleaned_documents'][0].content)\n",
    "\n",
    "print(\"\\nSample of split document:\")\n",
    "print(result['split_documents'][0].content)"
   ]
  },
  {
   "cell_type": "markdown",
   "metadata": {
    "id": "czMjWwnxPA-3"
   },
   "source": [
    "### Understanding Custom Input and Output Mappings\n",
    "\n",
    "In this example, we've created a SuperComponent with custom input and output mappings that expose more of the pipeline's functionality:\n",
    "\n",
    "1. **Multiple Inputs**: The component accepts both `documents` and `query` inputs, allowing it to process documents and embed queries.\n",
    "2. **Multiple Outputs**: The component exposes outputs from multiple components in the pipeline:\n",
    "   - `cleaned_documents`: Documents after cleaning\n",
    "   - `split_documents`: Documents after splitting\n",
    "   - `embedded_documents`: Documents after embedding\n",
    "   - `query_embedding`: The embedding of the query\n",
    "\n",
    "This demonstrates how the `@super_component` decorator allows you to create components with rich interfaces that expose the functionality of multiple components in a pipeline."
   ]
  },
  {
   "cell_type": "markdown",
   "metadata": {
    "id": "9y4iJE_SrS4K"
   },
   "source": [
    "## Example 4: Creating a SuperComponent with Outputs from Non-Leaf Components\n",
    "\n",
    "One of the powerful features of SuperComponents is the ability to expose outputs from any component in the pipeline, not just the leaf components. Let's create a SuperComponent that demonstrates this capability."
   ]
  },
  {
   "cell_type": "code",
   "execution_count": null,
   "metadata": {
    "id": "HryYZP9ZO-qc"
   },
   "outputs": [],
   "source": [
    "from haystack import Document, Pipeline, super_component\n",
    "from haystack.components.joiners import DocumentJoiner\n",
    "from haystack.components.embedders import SentenceTransformersTextEmbedder\n",
    "from haystack.components.retrievers import InMemoryBM25Retriever, InMemoryEmbeddingRetriever\n",
    "from haystack.components.rankers import TransformersSimilarityRanker\n",
    "from haystack.document_stores.in_memory import InMemoryDocumentStore\n",
    "\n",
    "\n",
    "@super_component\n",
    "class AdvancedHybridRetriever:\n",
    "    def __init__(\n",
    "        self, \n",
    "        document_store: InMemoryDocumentStore, \n",
    "        embedder_model: str = \"BAAI/bge-small-en-v1.5\",\n",
    "        ranker_model: str = \"BAAI/bge-reranker-base\"\n",
    "    ):\n",
    "        # Create the components\n",
    "        embedding_retriever = InMemoryEmbeddingRetriever(document_store)\n",
    "        bm25_retriever = InMemoryBM25Retriever(document_store)\n",
    "        text_embedder = SentenceTransformersTextEmbedder(embedder_model)\n",
    "        document_joiner = DocumentJoiner()\n",
    "        ranker = TransformersSimilarityRanker(ranker_model)\n",
    "\n",
    "        # Create the pipeline\n",
    "        self.pipeline = Pipeline()\n",
    "        self.pipeline.add_component(\"text_embedder\", text_embedder)\n",
    "        self.pipeline.add_component(\"embedding_retriever\", embedding_retriever)\n",
    "        self.pipeline.add_component(\"bm25_retriever\", bm25_retriever)\n",
    "        self.pipeline.add_component(\"document_joiner\", document_joiner)\n",
    "        self.pipeline.add_component(\"ranker\", ranker)\n",
    "\n",
    "        # Connect the components\n",
    "        self.pipeline.connect(\"text_embedder\", \"embedding_retriever\")\n",
    "        self.pipeline.connect(\"bm25_retriever\", \"document_joiner\")\n",
    "        self.pipeline.connect(\"embedding_retriever\", \"document_joiner\")\n",
    "        self.pipeline.connect(\"document_joiner\", \"ranker\")\n",
    "\n",
    "        # Define input and output mappings\n",
    "        self.input_mapping = {\n",
    "            \"query\": [\"text_embedder.text\", \"bm25_retriever.query\", \"ranker.query\"],\n",
    "        }\n",
    "        \n",
    "        # Expose outputs from multiple components, including non-leaf components\n",
    "        self.output_mapping = {\n",
    "            \"bm25_retriever.documents\": \"bm25_documents\",\n",
    "            \"embedding_retriever.documents\": \"embedding_documents\",\n",
    "            \"document_joiner.documents\": \"joined_documents\",\n",
    "            \"ranker.documents\": \"ranked_documents\",\n",
    "            \"text_embedder.embedding\": \"query_embedding\"\n",
    "        }"
   ]
  },
  {
   "cell_type": "code",
   "execution_count": null,
   "metadata": {
    "id": "INdC3WvLO-qc"
   },
   "outputs": [],
   "source": [
    "# Create and run the AdvancedHybridRetriever\n",
    "retriever = AdvancedHybridRetriever(document_store)\n",
    "result = retriever.run(query=query)\n",
    "\n",
    "# Print the results\n",
    "print(f\"BM25 documents: {len(result['bm25_documents'])}\")\n",
    "print(f\"Embedding documents: {len(result['embedding_documents'])}\")\n",
    "print(f\"Joined documents: {len(result['joined_documents'])}\")\n",
    "print(f\"Ranked documents: {len(result['ranked_documents'])}\")\n",
    "print(f\"Query embedding shape: {len(result['query_embedding'])}\")\n",
    "\n",
    "# Compare the top document from each stage\n",
    "print(\"\\nTop BM25 document:\")\n",
    "print(result['bm25_documents'][0].content[:200] + \"...\")\n",
    "print(f\"Score: {result['bm25_documents'][0].score:.4f}\")\n",
    "\n",
    "print(\"\\nTop embedding document:\")\n",
    "print(result['embedding_documents'][0].content[:200] + \"...\")\n",
    "print(f\"Score: {result['embedding_documents'][0].score:.4f}\")\n",
    "\n",
    "print(\"\\nTop ranked document:\")\n",
    "print(result['ranked_documents'][0].content[:200] + \"...\")\n",
    "print(f\"Score: {result['ranked_documents'][0].score:.4f}\")"
   ]
  },
  {
   "cell_type": "markdown",
   "metadata": {
    "id": "wLIcnWl-66QA"
   },
   "source": [
    "### Understanding Outputs from Non-Leaf Components\n",
    "\n",
    "In this example, we've created a SuperComponent that exposes outputs from multiple components in the pipeline, including non-leaf components:\n",
    "\n",
    "1. **BM25 Documents**: Documents retrieved by the BM25 retriever\n",
    "2. **Embedding Documents**: Documents retrieved by the embedding retriever\n",
    "3. **Joined Documents**: Documents after joining the results from both retrievers\n",
    "4. **Ranked Documents**: Documents after re-ranking\n",
    "5. **Query Embedding**: The embedding of the query\n",
    "\n",
    "This demonstrates how the `@super_component` decorator allows you to expose outputs from any component in the pipeline, not just the leaf components. This is particularly useful for debugging, analysis, or when you want to provide more detailed information to the user."
   ]
  },
  {
   "cell_type": "markdown",
   "metadata": {
    "id": "xtORWP3_0FAU"
   },
   "source": [
    "## Ready-Made SuperComponents in Haystack\n",
    "\n",
    "Haystack provides several ready-made SuperComponents that you can use in your applications, for example\n",
    "\n",
    "1. **[MultiFileConverter](https://docs.haystack.deepset.ai/docs/multifileconverter)**: A SuperComponent that can convert various file types to documents.\n",
    "2. **[DocumentPreprocessor](https://docs.haystack.deepset.ai/docs/documentpreprocessor)**: A SuperComponent that combines document cleaning and splitting.\n",
    "\n",
    "These SuperComponents provide a convenient way to use common pipelines without having to build them from scratch."
   ]
  },
  {
   "cell_type": "markdown",
   "metadata": {
    "id": "czMjWwnxPA-3"
   },
   "source": [
    "## Conclusion\n",
    "\n",
    "In this tutorial, you've learned how to create custom SuperComponents using the `@super_component` decorator. You've seen how to:\n",
    "\n",
    "1. Create a simple HybridRetriever SuperComponent\n",
    "2. Enhance it with a ranker\n",
    "3. Create a SuperComponent with custom input and output mappings\n",
    "4. Create a SuperComponent that exposes outputs from non-leaf components\n",
    "\n",
    "SuperComponents are a powerful way to encapsulate complex pipelines into reusable components with simplified interfaces. They make it easy to create higher-level components that abstract away the details of the underlying pipeline."
   ]
  }
 ],
 "metadata": {
  "accelerator": "GPU",
  "colab": {
   "gpuType": "T4",
   "provenance": []
  },
  "kernelspec": {
   "display_name": "Python 3",
   "name": "python3"
  },
  "language_info": {
   "codemirror_mode": {
    "name": "ipython",
    "version": 3
   },
   "file_extension": ".py",
   "mimetype": "text/x-python",
   "name": "python",
   "nbconvert_exporter": "python",
   "pygments_lexer": "ipython3",
   "version": "3.9.6"
  }
 },
 "nbformat": 4,
 "nbformat_minor": 0
}
