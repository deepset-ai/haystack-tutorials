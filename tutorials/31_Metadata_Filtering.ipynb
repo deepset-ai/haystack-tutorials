{
 "cells": [
  {
   "cell_type": "markdown",
   "metadata": {
    "id": "c1WR4wDbHj7i"
   },
   "source": [
    "# Tutorial: Filter Documents Based on Metadata\n",
    "\n",
    "- **Level**: Beginner\n",
    "- **Time to complete**: 5 minutes\n",
    "- **Components Used**: [`InMemoryDocumentStore`](https://docs.haystack.deepset.ai/docs/inmemorydocumentstore), [`InMemoryBM25Retriever`](https://docs.haystack.deepset.ai/docs/inmemorybm25retriever)\n",
    "- **Prerequisites**: None\n",
    "- **Goal**: Filter documents in a document store based on given metadata"
   ]
  },
  {
   "cell_type": "markdown",
   "metadata": {
    "id": "WUNZTr1FH0Iw"
   },
   "source": [
    "## Overview\n",
    "\n",
    "**📚 Useful Documentation: [Metadata Filtering](https://docs.haystack.deepset.ai/docs/metadata-filtering)**\n",
    "\n",
    "Although new retrieval techniques are great, sometimes you just know that you want to perform search on a specific group of documents in your document store. This can be anything from all the documents that are related to a specific _user_, or that were published after a certain _date_ and so on. Metadata filtering is very useful in these situations. In this tutorial, we will create a few simple documents containing information about Haystack, where the metadata includes information on what version of Haystack the information relates to. We will then do metadata filtering to make sure we are answering the question based only on information about Haystack 2.0.\n"
   ]
  },
  {
   "cell_type": "markdown",
   "metadata": {
    "id": "tM3U5KyegTAE"
   },
   "source": [
    "## Preparing the Colab Environment\n",
    "\n",
    "- [Enable GPU Runtime in Colab](https://docs.haystack.deepset.ai/docs/enabling-gpu-acceleration)\n",
    "- [Set logging level to INFO](https://docs.haystack.deepset.ai/docs/logging)"
   ]
  },
  {
   "cell_type": "markdown",
   "metadata": {
    "id": "utuZlm-AgWIN"
   },
   "source": [
    "## Installing Haystack\n",
    "\n",
    "Install Haystack with `pip`:"
   ]
  },
  {
   "cell_type": "code",
   "execution_count": null,
   "metadata": {
    "colab": {
     "base_uri": "https://localhost:8080/"
    },
    "id": "Y27k0kO_Hz3D",
    "outputId": "715de352-470c-454d-da4b-501141b7630c"
   },
   "outputs": [],
   "source": [
    "%%bash\n",
    "\n",
    "pip install haystack-ai"
   ]
  },
  {
   "cell_type": "markdown",
   "metadata": {
    "id": "HKBltMXLgzvq"
   },
   "source": [
    "## Preparing Documents\n",
    "\n",
    "First, let's prepare some documents. Below, we're manually creating 3 simple documents with `meta` attached. We're then writing these documents to an `InMemoryDocumentStore`, but you can [use any of the available document stores](https://docs.haystack.deepset.ai/docs/choosing-a-document-store) instead such as OpenSearch, Chroma, Pinecone and more.. (Note that not all of them have options to store in memory and may require extra setup).\n",
    "\n",
    "> ⭐️ For more information on how to write documents into different document stores, you can follow our tutorial on indexing different file types."
   ]
  },
  {
   "cell_type": "code",
   "execution_count": null,
   "metadata": {
    "colab": {
     "base_uri": "https://localhost:8080/"
    },
    "id": "mvEyXZV9hKio",
    "outputId": "a7425c3c-585f-440d-d6f3-dbf7b9ccbca3"
   },
   "outputs": [],
   "source": [
    "from datetime import datetime\n",
    "\n",
    "from haystack import Document\n",
    "from haystack.document_stores.in_memory import InMemoryDocumentStore\n",
    "from haystack.components.retrievers.in_memory import InMemoryBM25Retriever\n",
    "\n",
    "documents = [\n",
    "    Document(\n",
    "        content=\"Use pip to install a basic version of Haystack's latest release: pip install farm-haystack. All the core Haystack components live in the haystack repo. But there's also the haystack-extras repo which contains components that are not as widely used, and you need to install them separately.\",\n",
    "        meta={\"version\": 1.15, \"date\": datetime(2023, 3, 30)},\n",
    "    ),\n",
    "    Document(\n",
    "        content=\"Use pip to install a basic version of Haystack's latest release: pip install farm-haystack[inference]. All the core Haystack components live in the haystack repo. But there's also the haystack-extras repo which contains components that are not as widely used, and you need to install them separately.\",\n",
    "        meta={\"version\": 1.22, \"date\": datetime(2023, 11, 7)},\n",
    "    ),\n",
    "    Document(\n",
    "        content=\"Use pip to install only the Haystack 2.0 code: pip install haystack-ai. The haystack-ai package is built on the main branch which is an unstable beta version, but it's useful if you want to try the new features as soon as they are merged.\",\n",
    "        meta={\"version\": 2.0, \"date\": datetime(2023, 12, 4)},\n",
    "    ),\n",
    "]\n",
    "document_store = InMemoryDocumentStore(bm25_algorithm=\"BM25Plus\")\n",
    "document_store.write_documents(documents=documents)"
   ]
  },
  {
   "cell_type": "markdown",
   "metadata": {
    "id": "o9RaTQ_ZhdyY"
   },
   "source": [
    "## Building a Document Search Pipeline\n",
    "\n",
    "As an example, below we are building a simple document search pipeline that simply has a retriever. However, you can also change this pipeline to do more, such as generating answers to questions or more."
   ]
  },
  {
   "cell_type": "code",
   "execution_count": null,
   "metadata": {
    "id": "lo-CGv8mhyyL"
   },
   "outputs": [],
   "source": [
    "from haystack import Pipeline\n",
    "\n",
    "pipeline = Pipeline()\n",
    "pipeline.add_component(instance=InMemoryBM25Retriever(document_store=document_store), name=\"retriever\")"
   ]
  },
  {
   "cell_type": "markdown",
   "metadata": {
    "id": "-3Ggh01Wh5Z5"
   },
   "source": [
    "## Do Metadata Filtering\n",
    "\n",
    "Finally, ask a question by filtering the documents to `\"version\" > 1.21`.\n",
    "\n",
    "To see what kind of comparison operators you can use for your metadata, including logical comparistons such as `NOT`, `AND` and so on, check out the [Metadata Filtering documentation](https://docs.haystack.deepset.ai/docs/metadata-filtering#comparison)"
   ]
  },
  {
   "cell_type": "code",
   "execution_count": null,
   "metadata": {
    "colab": {
     "base_uri": "https://localhost:8080/",
     "height": 136,
     "referenced_widgets": [
      "86953f59ddd540b48edeca6d0f2fad53",
      "4fbfbdc18fff4cdfac9b1eff5373f366",
      "dea7aa237cfe4a56a05377075b1756a6",
      "91a0265a9dff463fbfc6667da4719c43",
      "f9830b5c3b144fc8af333659e5ff429b",
      "426d9fdbe9b54557b00c5bef214c07eb",
      "2b66affb41fd48f88a5d50cb65fa9cc6",
      "5f34f9f4d1c9451e9747d6fb79474441",
      "419cdb04396f4dc1b934f204df3270ee",
      "68ce1cbbfa1941ba84804e10c9d286ce",
      "9e481a99c6b04e5aac6b9c4ac02b2705"
     ]
    },
    "id": "sO52YJ9Xi5YZ",
    "outputId": "10dfe801-6e1c-4b51-b600-abb4722e56cb"
   },
   "outputs": [],
   "source": [
    "query = \"Haystack installation\"\n",
    "pipeline.run(data={\"retriever\": {\"query\": query, \"filters\": {\"field\": \"meta.version\", \"operator\": \">\", \"value\": 1.21}}})"
   ]
  },
  {
   "cell_type": "markdown",
   "metadata": {
    "id": "7_d1QNmSYECu"
   },
   "source": [
    "As a final step, let's see how we can add logical operators to our filters. This time, we are asking for retrieved documents to be filtered to `version > 1.21` _AND_ we're also asking their `date` to be later than November 7th 2023."
   ]
  },
  {
   "cell_type": "code",
   "execution_count": null,
   "metadata": {
    "colab": {
     "base_uri": "https://localhost:8080/",
     "height": 101,
     "referenced_widgets": [
      "5675eae6f6134de886062df51a77a31c",
      "6d09162f16a14abaa285e52306d55809",
      "d040038d11c443e8a22b3900fdb363d4",
      "0231be66ce54452fa3997a52f528e3f1",
      "9bf36e642aad46559ace3b599be2d001",
      "33dce544ebf940c39eff5dc528519d2b",
      "62ad652a13c8421da36f4428e43c3896",
      "95f5e34331e44813b162c522d1c43490",
      "45959b2f96754ce5a905a0678f75b9c7",
      "67b897deaa26495e87eb349975d66f78",
      "63a00da59f5f4eb9925537976c9c0c06"
     ]
    },
    "id": "PmWrtr7SWnRy",
    "outputId": "74cb0714-b038-49e8-930c-0d973ccd6104"
   },
   "outputs": [],
   "source": [
    "query = \"Haystack installation\"\n",
    "pipeline.run(\n",
    "    data={\n",
    "        \"retriever\": {\n",
    "            \"query\": query,\n",
    "            \"filters\": {\n",
    "                \"operator\": \"AND\",\n",
    "                \"conditions\": [\n",
    "                    {\"field\": \"meta.version\", \"operator\": \">\", \"value\": 1.21},\n",
    "                    {\"field\": \"meta.date\", \"operator\": \">\", \"value\": datetime(2023, 11, 7)},\n",
    "                ],\n",
    "            },\n",
    "        }\n",
    "    }\n",
    ")"
   ]
  },
  {
   "cell_type": "markdown",
   "metadata": {
    "id": "rejLvPEIj4FS"
   },
   "source": [
    "## What's next\n",
    "\n",
    "🎉 Congratulations! You've filtered retrieved documents with metadata!\n",
    "\n",
    "If you liked this tutorial, you may also enjoy:\n",
    "- [Serializing Haystack Pipelines](https://haystack.deepset.ai/tutorials/29_serializing_pipelines)\n",
    "-  [Creating Your First QA Pipeline with Retrieval-Augmentation](https://haystack.deepset.ai/tutorials/27_first_rag_pipeline)\n",
    "\n",
    "To stay up to date on the latest Haystack developments, you can [sign up for our newsletter](https://landing.deepset.ai/haystack-community-updates). Thanks for reading!"
   ]
  }
 ],
 "metadata": {
  "colab": {
   "provenance": []
  },
  "kernelspec": {
   "display_name": "Python 3",
   "name": "python3"
  },
  "language_info": {
   "name": "python"
  }
 },
 "nbformat": 4,
 "nbformat_minor": 0
}