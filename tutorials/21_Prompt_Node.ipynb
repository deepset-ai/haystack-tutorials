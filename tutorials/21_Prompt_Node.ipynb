{
 "cells": [
  {
   "cell_type": "markdown",
   "metadata": {},
   "source": [
    "# Tutorial: Basics of PromptNode\n",
    "\n",
    "- **Level**: Beginner\n",
    "- **Time to complete**: 15 minutes\n",
    "- **Nodes Used**: `PromptNode`\n",
    "- **Goal**: After completing this tutorial, you will have learned about how to leverage the power of large language models with PromptNode."
   ]
  },
  {
   "cell_type": "markdown",
   "metadata": {},
   "source": [
    "## Overview\n",
    "\n",
    "Learn various ways to use PromptNode as a stand-alone node. This tutorial will introduce you the basics of PromptNode, showcase different out-of-the-box templates and explain how to implement a template for your custom NLP task."
   ]
  },
  {
   "cell_type": "markdown",
   "metadata": {},
   "source": [
    "## Preparing the Colab Environment\n",
    "\n",
    "- [Enable GPU Runtime in Colab](https://docs.haystack.deepset.ai/docs/enabling-gpu-acceleration#enabling-the-gpu-in-colab)\n",
    "- [Set logging level to INFO](https://docs.haystack.deepset.ai/docs/log-level)"
   ]
  },
  {
   "cell_type": "markdown",
   "metadata": {},
   "source": [
    "## Installing Haystack\n",
    "\n",
    "To start, let's install the latest release of Haystack with `pip`:"
   ]
  },
  {
   "cell_type": "code",
   "execution_count": 3,
   "metadata": {},
   "outputs": [
    {
     "name": "stdout",
     "output_type": "stream",
     "text": [
      "Requirement already satisfied: pip in /Users/bilgeyucel/opt/miniconda3/lib/python3.9/site-packages (23.0)\n",
      "Requirement already satisfied: farm-haystack[colab] in /Users/bilgeyucel/opt/miniconda3/lib/python3.9/site-packages (1.14.0rc0)\n",
      "Requirement already satisfied: huggingface-hub>=0.5.0 in /Users/bilgeyucel/opt/miniconda3/lib/python3.9/site-packages (from farm-haystack[colab]) (0.11.1)\n",
      "Requirement already satisfied: posthog in /Users/bilgeyucel/opt/miniconda3/lib/python3.9/site-packages (from farm-haystack[colab]) (2.2.0)\n",
      "Requirement already satisfied: langdetect in /Users/bilgeyucel/opt/miniconda3/lib/python3.9/site-packages (from farm-haystack[colab]) (1.0.9)\n",
      "Requirement already satisfied: rank-bm25 in /Users/bilgeyucel/opt/miniconda3/lib/python3.9/site-packages (from farm-haystack[colab]) (0.2.2)\n",
      "Requirement already satisfied: mmh3 in /Users/bilgeyucel/opt/miniconda3/lib/python3.9/site-packages (from farm-haystack[colab]) (3.0.0)\n",
      "Requirement already satisfied: rapidfuzz<2.8.0,>=2.0.15 in /Users/bilgeyucel/opt/miniconda3/lib/python3.9/site-packages (from farm-haystack[colab]) (2.7.0)\n",
      "Requirement already satisfied: tqdm in /Users/bilgeyucel/opt/miniconda3/lib/python3.9/site-packages (from farm-haystack[colab]) (4.64.0)\n",
      "Requirement already satisfied: scikit-learn>=1.0.0 in /Users/bilgeyucel/opt/miniconda3/lib/python3.9/site-packages (from farm-haystack[colab]) (1.2.0)\n",
      "Requirement already satisfied: seqeval in /Users/bilgeyucel/opt/miniconda3/lib/python3.9/site-packages (from farm-haystack[colab]) (1.2.2)\n",
      "Requirement already satisfied: mlflow in /Users/bilgeyucel/opt/miniconda3/lib/python3.9/site-packages (from farm-haystack[colab]) (2.0.1)\n",
      "Requirement already satisfied: tiktoken>=0.1.2 in /Users/bilgeyucel/opt/miniconda3/lib/python3.9/site-packages (from farm-haystack[colab]) (0.2.0)\n",
      "Requirement already satisfied: transformers[torch]==4.25.1 in /Users/bilgeyucel/opt/miniconda3/lib/python3.9/site-packages (from farm-haystack[colab]) (4.25.1)\n",
      "Requirement already satisfied: scipy>=1.3.2 in /Users/bilgeyucel/opt/miniconda3/lib/python3.9/site-packages (from farm-haystack[colab]) (1.9.3)\n",
      "Requirement already satisfied: more-itertools in /Users/bilgeyucel/opt/miniconda3/lib/python3.9/site-packages (from farm-haystack[colab]) (9.0.0)\n",
      "Requirement already satisfied: requests in /Users/bilgeyucel/opt/miniconda3/lib/python3.9/site-packages (from farm-haystack[colab]) (2.27.1)\n",
      "Requirement already satisfied: sentence-transformers>=2.2.0 in /Users/bilgeyucel/opt/miniconda3/lib/python3.9/site-packages (from farm-haystack[colab]) (2.2.2)\n",
      "Requirement already satisfied: elasticsearch<8,>=7.7 in /Users/bilgeyucel/opt/miniconda3/lib/python3.9/site-packages (from farm-haystack[colab]) (7.17.8)\n",
      "Requirement already satisfied: nltk in /Users/bilgeyucel/opt/miniconda3/lib/python3.9/site-packages (from farm-haystack[colab]) (3.8)\n",
      "Requirement already satisfied: quantulum3 in /Users/bilgeyucel/opt/miniconda3/lib/python3.9/site-packages (from farm-haystack[colab]) (0.7.11)\n",
      "Requirement already satisfied: tika in /Users/bilgeyucel/opt/miniconda3/lib/python3.9/site-packages (from farm-haystack[colab]) (1.24)\n",
      "Requirement already satisfied: python-docx in /Users/bilgeyucel/opt/miniconda3/lib/python3.9/site-packages (from farm-haystack[colab]) (0.8.11)\n",
      "Requirement already satisfied: dill in /Users/bilgeyucel/opt/miniconda3/lib/python3.9/site-packages (from farm-haystack[colab]) (0.3.6)\n",
      "Requirement already satisfied: protobuf<=3.20.2 in /Users/bilgeyucel/opt/miniconda3/lib/python3.9/site-packages (from farm-haystack[colab]) (3.20.1)\n",
      "Requirement already satisfied: networkx in /Users/bilgeyucel/opt/miniconda3/lib/python3.9/site-packages (from farm-haystack[colab]) (2.8.8)\n",
      "Requirement already satisfied: jsonschema in /Users/bilgeyucel/opt/miniconda3/lib/python3.9/site-packages (from farm-haystack[colab]) (4.17.3)\n",
      "Requirement already satisfied: pandas in /Users/bilgeyucel/opt/miniconda3/lib/python3.9/site-packages (from farm-haystack[colab]) (1.5.2)\n",
      "Requirement already satisfied: azure-ai-formrecognizer>=3.2.0b2 in /Users/bilgeyucel/opt/miniconda3/lib/python3.9/site-packages (from farm-haystack[colab]) (3.2.0)\n",
      "Requirement already satisfied: pydantic in /Users/bilgeyucel/opt/miniconda3/lib/python3.9/site-packages (from farm-haystack[colab]) (1.10.2)\n",
      "Requirement already satisfied: pillow<=9.0.0 in /Users/bilgeyucel/opt/miniconda3/lib/python3.9/site-packages (from farm-haystack[colab]) (9.0.0)\n",
      "Requirement already satisfied: pyyaml>=5.1 in /Users/bilgeyucel/opt/miniconda3/lib/python3.9/site-packages (from transformers[torch]==4.25.1->farm-haystack[colab]) (5.4.1)\n",
      "Requirement already satisfied: filelock in /Users/bilgeyucel/opt/miniconda3/lib/python3.9/site-packages (from transformers[torch]==4.25.1->farm-haystack[colab]) (3.8.2)\n",
      "Requirement already satisfied: regex!=2019.12.17 in /Users/bilgeyucel/opt/miniconda3/lib/python3.9/site-packages (from transformers[torch]==4.25.1->farm-haystack[colab]) (2022.10.31)\n",
      "Requirement already satisfied: numpy>=1.17 in /Users/bilgeyucel/opt/miniconda3/lib/python3.9/site-packages (from transformers[torch]==4.25.1->farm-haystack[colab]) (1.23.5)\n",
      "Requirement already satisfied: packaging>=20.0 in /Users/bilgeyucel/opt/miniconda3/lib/python3.9/site-packages (from transformers[torch]==4.25.1->farm-haystack[colab]) (21.3)\n",
      "Requirement already satisfied: tokenizers!=0.11.3,<0.14,>=0.11.1 in /Users/bilgeyucel/opt/miniconda3/lib/python3.9/site-packages (from transformers[torch]==4.25.1->farm-haystack[colab]) (0.12.1)\n",
      "Requirement already satisfied: torch!=1.12.0,>=1.7 in /Users/bilgeyucel/opt/miniconda3/lib/python3.9/site-packages (from transformers[torch]==4.25.1->farm-haystack[colab]) (1.12.1)\n",
      "Requirement already satisfied: msrest>=0.6.21 in /Users/bilgeyucel/opt/miniconda3/lib/python3.9/site-packages (from azure-ai-formrecognizer>=3.2.0b2->farm-haystack[colab]) (0.7.1)\n",
      "Requirement already satisfied: azure-core<2.0.0,>=1.23.0 in /Users/bilgeyucel/opt/miniconda3/lib/python3.9/site-packages (from azure-ai-formrecognizer>=3.2.0b2->farm-haystack[colab]) (1.26.1)\n",
      "Requirement already satisfied: azure-common~=1.1 in /Users/bilgeyucel/opt/miniconda3/lib/python3.9/site-packages (from azure-ai-formrecognizer>=3.2.0b2->farm-haystack[colab]) (1.1.28)\n",
      "Requirement already satisfied: typing-extensions>=4.0.1 in /Users/bilgeyucel/opt/miniconda3/lib/python3.9/site-packages (from azure-ai-formrecognizer>=3.2.0b2->farm-haystack[colab]) (4.4.0)\n",
      "Requirement already satisfied: urllib3<2,>=1.21.1 in /Users/bilgeyucel/opt/miniconda3/lib/python3.9/site-packages (from elasticsearch<8,>=7.7->farm-haystack[colab]) (1.26.9)\n",
      "Requirement already satisfied: certifi in /Users/bilgeyucel/opt/miniconda3/lib/python3.9/site-packages (from elasticsearch<8,>=7.7->farm-haystack[colab]) (2022.12.7)\n",
      "Requirement already satisfied: jarowinkler<2.0.0,>=1.2.0 in /Users/bilgeyucel/opt/miniconda3/lib/python3.9/site-packages (from rapidfuzz<2.8.0,>=2.0.15->farm-haystack[colab]) (1.2.3)\n",
      "Requirement already satisfied: joblib>=1.1.1 in /Users/bilgeyucel/opt/miniconda3/lib/python3.9/site-packages (from scikit-learn>=1.0.0->farm-haystack[colab]) (1.2.0)\n",
      "Requirement already satisfied: threadpoolctl>=2.0.0 in /Users/bilgeyucel/opt/miniconda3/lib/python3.9/site-packages (from scikit-learn>=1.0.0->farm-haystack[colab]) (3.1.0)\n",
      "Requirement already satisfied: torchvision in /Users/bilgeyucel/opt/miniconda3/lib/python3.9/site-packages (from sentence-transformers>=2.2.0->farm-haystack[colab]) (0.14.1)\n",
      "Requirement already satisfied: sentencepiece in /Users/bilgeyucel/opt/miniconda3/lib/python3.9/site-packages (from sentence-transformers>=2.2.0->farm-haystack[colab]) (0.1.97)\n",
      "Requirement already satisfied: blobfile>=2 in /Users/bilgeyucel/opt/miniconda3/lib/python3.9/site-packages (from tiktoken>=0.1.2->farm-haystack[colab]) (2.0.1)\n",
      "Requirement already satisfied: idna<4,>=2.5 in /Users/bilgeyucel/opt/miniconda3/lib/python3.9/site-packages (from requests->farm-haystack[colab]) (3.3)\n",
      "Requirement already satisfied: charset-normalizer~=2.0.0 in /Users/bilgeyucel/opt/miniconda3/lib/python3.9/site-packages (from requests->farm-haystack[colab]) (2.0.4)\n",
      "Requirement already satisfied: pyrsistent!=0.17.0,!=0.17.1,!=0.17.2,>=0.14.0 in /Users/bilgeyucel/opt/miniconda3/lib/python3.9/site-packages (from jsonschema->farm-haystack[colab]) (0.19.2)\n",
      "Requirement already satisfied: attrs>=17.4.0 in /Users/bilgeyucel/opt/miniconda3/lib/python3.9/site-packages (from jsonschema->farm-haystack[colab]) (22.1.0)\n",
      "Requirement already satisfied: six in /Users/bilgeyucel/opt/miniconda3/lib/python3.9/site-packages (from langdetect->farm-haystack[colab]) (1.16.0)\n",
      "Requirement already satisfied: markdown<4,>=3.3 in /Users/bilgeyucel/opt/miniconda3/lib/python3.9/site-packages (from mlflow->farm-haystack[colab]) (3.3.7)\n",
      "Requirement already satisfied: gunicorn<21 in /Users/bilgeyucel/opt/miniconda3/lib/python3.9/site-packages (from mlflow->farm-haystack[colab]) (20.1.0)\n",
      "Requirement already satisfied: pyarrow<11,>=4.0.0 in /Users/bilgeyucel/opt/miniconda3/lib/python3.9/site-packages (from mlflow->farm-haystack[colab]) (10.0.1)\n",
      "Requirement already satisfied: matplotlib<4 in /Users/bilgeyucel/opt/miniconda3/lib/python3.9/site-packages (from mlflow->farm-haystack[colab]) (3.6.2)\n",
      "Requirement already satisfied: Flask<3 in /Users/bilgeyucel/opt/miniconda3/lib/python3.9/site-packages (from mlflow->farm-haystack[colab]) (2.2.2)\n",
      "Requirement already satisfied: importlib-metadata!=4.7.0,<6,>=3.7.0 in /Users/bilgeyucel/opt/miniconda3/lib/python3.9/site-packages (from mlflow->farm-haystack[colab]) (4.13.0)\n",
      "Requirement already satisfied: querystring-parser<2 in /Users/bilgeyucel/opt/miniconda3/lib/python3.9/site-packages (from mlflow->farm-haystack[colab]) (1.2.4)\n",
      "Requirement already satisfied: cloudpickle<3 in /Users/bilgeyucel/opt/miniconda3/lib/python3.9/site-packages (from mlflow->farm-haystack[colab]) (2.2.0)\n",
      "Requirement already satisfied: sqlparse<1,>=0.4.0 in /Users/bilgeyucel/opt/miniconda3/lib/python3.9/site-packages (from mlflow->farm-haystack[colab]) (0.4.3)\n",
      "Requirement already satisfied: databricks-cli<1,>=0.8.7 in /Users/bilgeyucel/opt/miniconda3/lib/python3.9/site-packages (from mlflow->farm-haystack[colab]) (0.17.4)\n",
      "Requirement already satisfied: docker<7,>=4.0.0 in /Users/bilgeyucel/opt/miniconda3/lib/python3.9/site-packages (from mlflow->farm-haystack[colab]) (6.0.1)\n",
      "Requirement already satisfied: pytz<2023 in /Users/bilgeyucel/opt/miniconda3/lib/python3.9/site-packages (from mlflow->farm-haystack[colab]) (2022.6)\n",
      "Requirement already satisfied: gitpython<4,>=2.1.0 in /Users/bilgeyucel/opt/miniconda3/lib/python3.9/site-packages (from mlflow->farm-haystack[colab]) (3.1.29)\n",
      "Requirement already satisfied: shap<1,>=0.40 in /Users/bilgeyucel/opt/miniconda3/lib/python3.9/site-packages (from mlflow->farm-haystack[colab]) (0.41.0)\n",
      "Requirement already satisfied: alembic<2 in /Users/bilgeyucel/opt/miniconda3/lib/python3.9/site-packages (from mlflow->farm-haystack[colab]) (1.9.0)\n",
      "Requirement already satisfied: click<9,>=7.0 in /Users/bilgeyucel/opt/miniconda3/lib/python3.9/site-packages (from mlflow->farm-haystack[colab]) (8.1.3)\n",
      "Requirement already satisfied: entrypoints<1 in /Users/bilgeyucel/opt/miniconda3/lib/python3.9/site-packages (from mlflow->farm-haystack[colab]) (0.4)\n",
      "Requirement already satisfied: Jinja2<4,>=2.11 in /Users/bilgeyucel/opt/miniconda3/lib/python3.9/site-packages (from mlflow->farm-haystack[colab]) (3.1.2)\n",
      "Requirement already satisfied: sqlalchemy<2,>=1.4.0 in /Users/bilgeyucel/opt/miniconda3/lib/python3.9/site-packages (from mlflow->farm-haystack[colab]) (1.4.45)\n",
      "Requirement already satisfied: python-dateutil>=2.8.1 in /Users/bilgeyucel/opt/miniconda3/lib/python3.9/site-packages (from pandas->farm-haystack[colab]) (2.8.2)\n",
      "Requirement already satisfied: backoff<2.0.0,>=1.10.0 in /Users/bilgeyucel/opt/miniconda3/lib/python3.9/site-packages (from posthog->farm-haystack[colab]) (1.11.1)\n",
      "Requirement already satisfied: monotonic>=1.5 in /Users/bilgeyucel/opt/miniconda3/lib/python3.9/site-packages (from posthog->farm-haystack[colab]) (1.6)\n",
      "Requirement already satisfied: lxml>=2.3.2 in /Users/bilgeyucel/opt/miniconda3/lib/python3.9/site-packages (from python-docx->farm-haystack[colab]) (4.9.2)\n",
      "Requirement already satisfied: num2words in /Users/bilgeyucel/opt/miniconda3/lib/python3.9/site-packages (from quantulum3->farm-haystack[colab]) (0.5.12)\n",
      "Requirement already satisfied: inflect in /Users/bilgeyucel/opt/miniconda3/lib/python3.9/site-packages (from quantulum3->farm-haystack[colab]) (6.0.2)\n",
      "Requirement already satisfied: setuptools in /Users/bilgeyucel/opt/miniconda3/lib/python3.9/site-packages (from tika->farm-haystack[colab]) (61.2.0)\n",
      "Requirement already satisfied: Mako in /Users/bilgeyucel/opt/miniconda3/lib/python3.9/site-packages (from alembic<2->mlflow->farm-haystack[colab]) (1.2.4)\n",
      "Requirement already satisfied: pycryptodomex~=3.8 in /Users/bilgeyucel/opt/miniconda3/lib/python3.9/site-packages (from blobfile>=2->tiktoken>=0.1.2->farm-haystack[colab]) (3.17)\n",
      "Requirement already satisfied: tabulate>=0.7.7 in /Users/bilgeyucel/opt/miniconda3/lib/python3.9/site-packages (from databricks-cli<1,>=0.8.7->mlflow->farm-haystack[colab]) (0.9.0)\n",
      "Requirement already satisfied: oauthlib>=3.1.0 in /Users/bilgeyucel/opt/miniconda3/lib/python3.9/site-packages (from databricks-cli<1,>=0.8.7->mlflow->farm-haystack[colab]) (3.2.2)\n",
      "Requirement already satisfied: pyjwt>=1.7.0 in /Users/bilgeyucel/opt/miniconda3/lib/python3.9/site-packages (from databricks-cli<1,>=0.8.7->mlflow->farm-haystack[colab]) (2.6.0)\n",
      "Requirement already satisfied: websocket-client>=0.32.0 in /Users/bilgeyucel/opt/miniconda3/lib/python3.9/site-packages (from docker<7,>=4.0.0->mlflow->farm-haystack[colab]) (1.4.2)\n",
      "Requirement already satisfied: itsdangerous>=2.0 in /Users/bilgeyucel/opt/miniconda3/lib/python3.9/site-packages (from Flask<3->mlflow->farm-haystack[colab]) (2.1.2)\n",
      "Requirement already satisfied: Werkzeug>=2.2.2 in /Users/bilgeyucel/opt/miniconda3/lib/python3.9/site-packages (from Flask<3->mlflow->farm-haystack[colab]) (2.2.2)\n",
      "Requirement already satisfied: gitdb<5,>=4.0.1 in /Users/bilgeyucel/opt/miniconda3/lib/python3.9/site-packages (from gitpython<4,>=2.1.0->mlflow->farm-haystack[colab]) (4.0.10)\n",
      "Requirement already satisfied: zipp>=0.5 in /Users/bilgeyucel/opt/miniconda3/lib/python3.9/site-packages (from importlib-metadata!=4.7.0,<6,>=3.7.0->mlflow->farm-haystack[colab]) (3.11.0)\n",
      "Requirement already satisfied: MarkupSafe>=2.0 in /Users/bilgeyucel/opt/miniconda3/lib/python3.9/site-packages (from Jinja2<4,>=2.11->mlflow->farm-haystack[colab]) (2.1.1)\n",
      "Requirement already satisfied: contourpy>=1.0.1 in /Users/bilgeyucel/opt/miniconda3/lib/python3.9/site-packages (from matplotlib<4->mlflow->farm-haystack[colab]) (1.0.6)\n",
      "Requirement already satisfied: cycler>=0.10 in /Users/bilgeyucel/opt/miniconda3/lib/python3.9/site-packages (from matplotlib<4->mlflow->farm-haystack[colab]) (0.11.0)\n",
      "Requirement already satisfied: fonttools>=4.22.0 in /Users/bilgeyucel/opt/miniconda3/lib/python3.9/site-packages (from matplotlib<4->mlflow->farm-haystack[colab]) (4.38.0)\n",
      "Requirement already satisfied: pyparsing>=2.2.1 in /Users/bilgeyucel/opt/miniconda3/lib/python3.9/site-packages (from matplotlib<4->mlflow->farm-haystack[colab]) (3.0.9)\n",
      "Requirement already satisfied: kiwisolver>=1.0.1 in /Users/bilgeyucel/opt/miniconda3/lib/python3.9/site-packages (from matplotlib<4->mlflow->farm-haystack[colab]) (1.4.4)\n",
      "Requirement already satisfied: requests-oauthlib>=0.5.0 in /Users/bilgeyucel/opt/miniconda3/lib/python3.9/site-packages (from msrest>=0.6.21->azure-ai-formrecognizer>=3.2.0b2->farm-haystack[colab]) (1.3.1)\n",
      "Requirement already satisfied: isodate>=0.6.0 in /Users/bilgeyucel/opt/miniconda3/lib/python3.9/site-packages (from msrest>=0.6.21->azure-ai-formrecognizer>=3.2.0b2->farm-haystack[colab]) (0.6.1)\n",
      "Requirement already satisfied: numba in /Users/bilgeyucel/opt/miniconda3/lib/python3.9/site-packages (from shap<1,>=0.40->mlflow->farm-haystack[colab]) (0.56.4)\n",
      "Requirement already satisfied: slicer==0.0.7 in /Users/bilgeyucel/opt/miniconda3/lib/python3.9/site-packages (from shap<1,>=0.40->mlflow->farm-haystack[colab]) (0.0.7)\n",
      "Requirement already satisfied: docopt>=0.6.2 in /Users/bilgeyucel/opt/miniconda3/lib/python3.9/site-packages (from num2words->quantulum3->farm-haystack[colab]) (0.6.2)\n",
      "Requirement already satisfied: smmap<6,>=3.0.1 in /Users/bilgeyucel/opt/miniconda3/lib/python3.9/site-packages (from gitdb<5,>=4.0.1->gitpython<4,>=2.1.0->mlflow->farm-haystack[colab]) (5.0.0)\n",
      "Requirement already satisfied: llvmlite<0.40,>=0.39.0dev0 in /Users/bilgeyucel/opt/miniconda3/lib/python3.9/site-packages (from numba->shap<1,>=0.40->mlflow->farm-haystack[colab]) (0.39.1)\n"
     ]
    }
   ],
   "source": [
    "%%bash\n",
    "\n",
    "pip install --upgrade pip\n",
    "pip install farm-haystack[colab]"
   ]
  },
  {
   "cell_type": "markdown",
   "metadata": {},
   "source": [
    "## Using PromptNode as a Stand-Alone Node\n",
    "\n",
    "The PromptNode class is the central abstraction in Haystack's large language model (LLM) support. It uses [`google/flan-t5-base`](https://huggingface.co/google/flan-t5-base) model by default, but you can replace the default model with a flan-t5 model of a different size such as `google/flan-t5-large` or a model by OpenAI such as `text-davinci-003`.\n",
    "\n",
    "Large language models are huge models trained on enormous amounts of data. That’s why these models have general knowledge of the world, so you can ask them anything and they will be able to answer. Let's initialize a PromptNode and ask some questions:"
   ]
  },
  {
   "cell_type": "code",
   "execution_count": null,
   "metadata": {},
   "outputs": [],
   "source": [
    "from haystack.nodes.prompt import PromptNode\n",
    "\n",
    "prompt_node = PromptNode(model_name_or_path=\"google/flan-t5-xl\")\n",
    "prompt_node(\"What is the capital of Germany?\")"
   ]
  },
  {
   "cell_type": "markdown",
   "metadata": {},
   "source": [
    "The `google/flan-t5-large` was trained on school math word problems dataset named [GSM8K](https://huggingface.co/datasets/gsm8k). That's why this model can successfully answer math questions."
   ]
  },
  {
   "cell_type": "code",
   "execution_count": null,
   "metadata": {},
   "outputs": [
    {
     "data": {
      "text/plain": [
       "['Bob']"
      ]
     },
     "execution_count": 23,
     "metadata": {},
     "output_type": "execute_result"
    }
   ],
   "source": [
    "prompt_node(\"If Bob is 20 and Sara is 21, who is older?\")"
   ]
  },
  {
   "cell_type": "markdown",
   "metadata": {},
   "source": [
    "> To use `PromptNode` with an OpenAI model, just provide an `api_key` and the model name you want to use: `prompt_node = PromptNode(model_name_or_path=\"text-davinci-003\", api_key=<YOUR_API_KEY>)`\n",
    "```python\n",
    "prompt_node = PromptNode(model_name_or_path=\"text-davinci-003\", api_key=<YOUR_API_KEY>)\n",
    "```"
   ]
  },
  {
   "cell_type": "markdown",
   "metadata": {},
   "source": [
    "## Using PromptNode With a Template\n",
    "\n",
    "You can also use PromptNode with out-of-the-box templates. These templates can perform multiple tasks, such as summarization, question answering, question generation, and more, using a single, unified model within the Haystack framework. \n",
    "\n",
    "The `get_prompt_template_names()` method lists pre-defined templates:"
   ]
  },
  {
   "cell_type": "code",
   "execution_count": null,
   "metadata": {},
   "outputs": [
    {
     "data": {
      "text/plain": [
       "['question-answering',\n",
       " 'question-generation',\n",
       " 'conditioned-question-generation',\n",
       " 'summarization',\n",
       " 'question-answering-check',\n",
       " 'sentiment-analysis',\n",
       " 'multiple-choice-question-answering',\n",
       " 'topic-classification',\n",
       " 'language-detection',\n",
       " 'translation']"
      ]
     },
     "execution_count": 24,
     "metadata": {},
     "output_type": "execute_result"
    }
   ],
   "source": [
    "prompt_node.get_prompt_template_names()"
   ]
  },
  {
   "cell_type": "code",
   "execution_count": null,
   "metadata": {},
   "outputs": [],
   "source": [
    "# https://www.jpmorganchase.com/content/dam/jpmc/jpmorgan-chase-and-co/documents/jpmc-esg-report-2020.pdf\n",
    "esg_content = \"\"\"Responsible resource and waste management are important\n",
    "elements of our sustainability strategy, helping us reduce our\n",
    "impacts while improving efficiency and reducing costs. Our\n",
    "focus is on reducing our water and waste footprint, coupled with\n",
    "responsible disposal of the waste we produce. To drive progress\n",
    "in these areas, in 2021 we set new targets to reduce our water\n",
    "consumption by 20% by 2030 and internal paper use by 90% by\n",
    "2025 compared with 2017 baselines. And we have also committed\n",
    "that by the end of 2021 we will source 100% of our paper from\n",
    "certified sources, meaning the products come from responsibly\n",
    "managed forests that provide environmental, social and economic\n",
    "benefits. We work to recycle paper, as well as non-paper waste,\n",
    "throughout our buildings and branches where recycling services\n",
    "are available and economically feasible. We are working to\n",
    "optimize existing recycling services, expand such services to new\n",
    "locations and explore opportunities to bring composting services\n",
    "to more of our corporate locations with cafeterias. We also\n",
    "carefully select vendors to dispose our e-waste responsibly, with\n",
    "100% diverted from landfills.\n",
    "We recognize that the environmental and social impact of our\n",
    "operations extends to our suppliers. As such, we seek to do\n",
    "business with suppliers that share our values and commitment to\n",
    "making a positive impact in the communities where we operate.\n",
    "We encourage our suppliers to develop internal programs, as\n",
    "well as targets, to foster a culture of sustainability. We expect\n",
    "them to conduct their operations in a manner that protects the\n",
    "environment by making reasonable efforts to meet industry best\n",
    "practices and standards with respect to the reduction of energy\n",
    "use, GHG emissions, waste and water use.\"\"\""
   ]
  },
  {
   "cell_type": "code",
   "execution_count": null,
   "metadata": {},
   "outputs": [],
   "source": [
    "prompt_node.prompt(\"question-generation\", documents=[esg_content])"
   ]
  },
  {
   "cell_type": "code",
   "execution_count": null,
   "metadata": {},
   "outputs": [],
   "source": [
    "prompt_node.prompt(\"summarization\", documents=[esg_content])"
   ]
  },
  {
   "cell_type": "markdown",
   "metadata": {},
   "source": [
    "## Using PromptNode with a Custom Template"
   ]
  },
  {
   "cell_type": "markdown",
   "metadata": {},
   "source": [
    "One of the benefits of PromptNode is that you can use it to define and add additional prompt templates the model supports. Defining additional prompt templates makes it possible to extend the model's capabilities and use it for a broader range of NLP tasks in Haystack. \n",
    "\n",
    "Prompt engineers can define templates for each NLP task and register them with PromptNode. For a custom template, create a `PromptTemplate` with `name` and `prompt_text` parameters. You need to define necessary parameters for the prompt in `promp_text` with `$` sign. Let's create a custom template to generate a TL;DR section for the ESG report:"
   ]
  },
  {
   "cell_type": "code",
   "execution_count": null,
   "metadata": {},
   "outputs": [],
   "source": [
    "from haystack.nodes.prompt import PromptTemplate\n",
    "\n",
    "tldr_generator = PromptTemplate(\n",
    "    name=\"tldr-generator\",\n",
    "    prompt_text=\"Please provide a interesting TLDR section of the given document. Documents: $documents; TLDR:\",\n",
    ")"
   ]
  },
  {
   "cell_type": "code",
   "execution_count": null,
   "metadata": {},
   "outputs": [],
   "source": [
    "prompt_node.prompt(tldr_generator, documents=[esg_content])"
   ]
  },
  {
   "cell_type": "markdown",
   "metadata": {},
   "source": [
    "You can also add the new template to the template list with the `add_prompt_template()` and use it by its name. Create another PromptTemplate and pass it to `add_prompt_template()` as argument to be able to call with `prompt()` method:"
   ]
  },
  {
   "cell_type": "code",
   "execution_count": null,
   "metadata": {},
   "outputs": [],
   "source": [
    "prompt_node.add_prompt_template(\n",
    "    PromptTemplate(\n",
    "        name=\"give-a-title\",\n",
    "        prompt_text=\"Provide short titles for the following documents. Documents: $documents; Title,\",\n",
    "    )\n",
    ")"
   ]
  },
  {
   "cell_type": "code",
   "execution_count": null,
   "metadata": {},
   "outputs": [],
   "source": [
    "prompt_node.prompt(prompt_template=\"give-a-title\", documents=[esg_content])"
   ]
  },
  {
   "cell_type": "markdown",
   "metadata": {},
   "source": [
    "## About us\n",
    "\n",
    "\n",
    "This [Haystack](https://github.com/deepset-ai/haystack/) notebook was made with love by [deepset](https://deepset.ai/) in Berlin, Germany\n",
    "\n",
    "We bring NLP to the industry via open source!  \n",
    "Our focus: Industry specific language models & large scale QA systems.  \n",
    "  \n",
    "Some of our other work: \n",
    "- [German BERT](https://deepset.ai/german-bert)\n",
    "- [GermanQuAD and GermanDPR](https://deepset.ai/germanquad)\n",
    "\n",
    "Get in touch:\n",
    "[Twitter](https://twitter.com/deepset_ai) | [LinkedIn](https://www.linkedin.com/company/deepset-ai/) | [Discord](https://haystack.deepset.ai/community/join) | [GitHub Discussions](https://github.com/deepset-ai/haystack/discussions) | [Website](https://deepset.ai)\n",
    "\n",
    "By the way: [we're hiring!](https://www.deepset.ai/jobs)\n"
   ]
  }
 ],
 "metadata": {
  "kernelspec": {
   "display_name": "Python 3.9.12 ('base')",
   "language": "python",
   "name": "python3"
  },
  "language_info": {
   "codemirror_mode": {
    "name": "ipython",
    "version": 3
   },
   "file_extension": ".py",
   "mimetype": "text/x-python",
   "name": "python",
   "nbconvert_exporter": "python",
   "pygments_lexer": "ipython3",
   "version": "3.9.12"
  },
  "orig_nbformat": 4,
  "vscode": {
   "interpreter": {
    "hash": "76c0ba09435b0d7ab7f3e4f9fd6b1554cdb12adf349a7242a1470606c432d777"
   }
  }
 },
 "nbformat": 4,
 "nbformat_minor": 2
}
